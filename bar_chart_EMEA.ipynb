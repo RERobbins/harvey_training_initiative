{
 "cells": [
  {
   "cell_type": "code",
   "execution_count": 1,
   "id": "489ff43f-0629-4fcc-af23-4a4bcd40f9c6",
   "metadata": {},
   "outputs": [],
   "source": [
    "import os\n",
    "import pandas as pd\n",
    "import altair as alt"
   ]
  },
  {
   "cell_type": "code",
   "execution_count": 2,
   "id": "de7c5d29-da35-48d8-b375-44c3dfff7029",
   "metadata": {},
   "outputs": [],
   "source": [
    "#os.chdir(\"/content/drive/MyDrive/Harvey Associate Initiative/\")\n",
    "#os.chdir(\"/Users/rerobbins/projects/work/harvey_training_initiative\")\n",
    "os.chdir(\"/home/jovyan/work/work/harvey_training_initiative\")"
   ]
  },
  {
   "cell_type": "code",
   "execution_count": 3,
   "id": "1132e52b-d4a6-4a1a-a33e-1b723650138e",
   "metadata": {},
   "outputs": [],
   "source": [
    "df = pd.read_excel(\"training_status_directory.xlsx\")\n",
    "df = df[(df['Title Group'] == \"Associate\") & (df['Region'] != \"U.S.\")]"
   ]
  },
  {
   "cell_type": "code",
   "execution_count": 4,
   "id": "23ef17af-22cd-430a-af50-dc7aa366e924",
   "metadata": {},
   "outputs": [],
   "source": [
    "grouped = df.groupby(['Region', 'Office', 'Trained']).size().reset_index(name='Count')"
   ]
  },
  {
   "cell_type": "code",
   "execution_count": 5,
   "id": "48208cf2-bfe3-4e42-9417-c956209b7418",
   "metadata": {},
   "outputs": [],
   "source": [
    "pivot = grouped.pivot(index=['Region', 'Office'], columns='Trained', values='Count').reset_index()\n",
    "pivot.columns = ['Region', 'Office', 'UntrainedCount', 'TrainedCount']\n",
    "pivot = pivot.fillna(0)\n",
    "\n",
    "pivot['Total'] = pivot['TrainedCount'] + pivot['UntrainedCount']"
   ]
  },
  {
   "cell_type": "code",
   "execution_count": 6,
   "id": "ad5a5224-a5a5-4bb2-a31a-ef6acd900bad",
   "metadata": {},
   "outputs": [],
   "source": [
    "stacked_data_office = pivot.melt(\n",
    "    id_vars=['Region', 'Office', 'Total'],\n",
    "    value_vars=['TrainedCount', 'UntrainedCount'],\n",
    "    var_name='TrainingStatus',\n",
    "    value_name='Count'\n",
    ")\n",
    "\n",
    "stacked_data_office['TrainingStatus'] = pd.Categorical(\n",
    "    stacked_data_office['TrainingStatus'].map({\n",
    "        'UntrainedCount': 'Untrained',\n",
    "        'TrainedCount': 'Trained'\n",
    "    }),\n",
    ")"
   ]
  },
  {
   "cell_type": "code",
   "execution_count": 7,
   "id": "ab8330ef-49c8-4e90-adb5-32d62fb85e08",
   "metadata": {},
   "outputs": [],
   "source": [
    "region_data = pivot.groupby('Region').agg(\n",
    "    Total=('Total', 'sum'),\n",
    "    TrainedCount=('TrainedCount', 'sum'),\n",
    "    UntrainedCount=('UntrainedCount', 'sum')\n",
    ").reset_index()\n",
    "\n",
    "stacked_data_region = region_data.melt(\n",
    "    id_vars=['Region', 'Total'],\n",
    "    value_vars=['TrainedCount', 'UntrainedCount'],\n",
    "    var_name='TrainingStatus',\n",
    "    value_name='Count'\n",
    ")\n",
    "\n",
    "stacked_data_region['TrainingStatus'] = pd.Categorical(\n",
    "    stacked_data_region['TrainingStatus'].map({\n",
    "        'TrainedCount': 'Trained',\n",
    "        'UntrainedCount': 'Untrained'\n",
    "    }),\n",
    ")"
   ]
  },
  {
   "cell_type": "code",
   "execution_count": 8,
   "id": "c55d1232-8d16-4c7b-b1ad-987f03bbe22b",
   "metadata": {},
   "outputs": [],
   "source": [
    "def create_region_chart(region):\n",
    "    filtered_data = stacked_data_office[stacked_data_office['Region'] == region]\n",
    "    return alt.Chart(filtered_data).mark_bar().encode(\n",
    "        x=alt.X('Office:N', title='Office'),\n",
    "        y=alt.Y('Count:Q',  title='Number of People', stack=True),\n",
    "        color=alt.Color(\n",
    "            'TrainingStatus:N',\n",
    "            scale=alt.Scale(\n",
    "                domain=['Untrained', 'Trained'],\n",
    "                range=['red', 'green']\n",
    "            ),\n",
    "            title='Training Status'\n",
    "        ),\n",
    "        tooltip=[\n",
    "            alt.Tooltip('Region:N', title='Region'),\n",
    "            alt.Tooltip('Office:N', title='Office'),\n",
    "            alt.Tooltip('Total:Q', title='Total People'),\n",
    "            alt.Tooltip('TrainingStatus:N', title='Status'),\n",
    "            alt.Tooltip('Count:Q', title='Count')\n",
    "        ]\n",
    "    ).properties(\n",
    "        title=f'{region} Region',\n",
    "        width=300,\n",
    "        height=200\n",
    "    )"
   ]
  },
  {
   "cell_type": "code",
   "execution_count": 9,
   "id": "a6e65206-cc33-4d26-a36d-f7c0a51d6467",
   "metadata": {},
   "outputs": [],
   "source": [
    "region_chart = alt.Chart(stacked_data_region).mark_bar().encode(\n",
    "    x=alt.X('Region:N', title='Region'),\n",
    "    y=alt.Y('Count:Q', title='Number of People', stack=True),\n",
    "    color=alt.Color(\n",
    "        'TrainingStatus:N',\n",
    "        scale=alt.Scale(\n",
    "            domain=['Untrained', 'Trained'],\n",
    "            range=['red', 'green']\n",
    "        ),\n",
    "        title='Training Status'\n",
    "    ),\n",
    "    tooltip=[\n",
    "        alt.Tooltip('Region:N', title='Region'),\n",
    "        alt.Tooltip('Total:Q', title='Total People'),\n",
    "        alt.Tooltip('TrainingStatus:N', title='Status'),\n",
    "        alt.Tooltip('Count:Q', title='Count')\n",
    "    ]\n",
    ").properties(\n",
    "    title='Region-Level Summary: Training Progress',\n",
    "    width=600,\n",
    "    height=300\n",
    ")"
   ]
  },
  {
   "cell_type": "code",
   "execution_count": 10,
   "id": "18d4813a-b459-422e-8349-0e1348f1f1ef",
   "metadata": {},
   "outputs": [],
   "source": [
    "# Create individual charts for each region\n",
    "regions = stacked_data_office['Region'].unique()\n",
    "charts = [create_region_chart(region) for region in regions]"
   ]
  },
  {
   "cell_type": "code",
   "execution_count": 11,
   "id": "8db1bcac-14ea-484e-9c57-6baac23e159d",
   "metadata": {},
   "outputs": [],
   "source": [
    "# Combine the region-specific charts\n",
    "office_charts = alt.hconcat(*charts).properties(\n",
    "    title='Office-Level Detail: Training Progress by Region'\n",
    ")"
   ]
  },
  {
   "cell_type": "code",
   "execution_count": 12,
   "id": "44355907-709c-4da3-bbce-a543e70e71c6",
   "metadata": {},
   "outputs": [],
   "source": [
    "# Final Combined Chart\n",
    "final_chart = alt.vconcat(region_chart, office_charts).properties(\n",
    "    title='Training Progress Overview'\n",
    ")"
   ]
  },
  {
   "cell_type": "code",
   "execution_count": 13,
   "id": "e45a406c-1d5b-42dd-8240-3ce8b7950202",
   "metadata": {},
   "outputs": [
    {
     "data": {
      "text/html": [
       "\n",
       "<style>\n",
       "  #altair-viz-eb4c2248809d4242beac575077f6fecd.vega-embed {\n",
       "    width: 100%;\n",
       "    display: flex;\n",
       "  }\n",
       "\n",
       "  #altair-viz-eb4c2248809d4242beac575077f6fecd.vega-embed details,\n",
       "  #altair-viz-eb4c2248809d4242beac575077f6fecd.vega-embed details summary {\n",
       "    position: relative;\n",
       "  }\n",
       "</style>\n",
       "<div id=\"altair-viz-eb4c2248809d4242beac575077f6fecd\"></div>\n",
       "<script type=\"text/javascript\">\n",
       "  var VEGA_DEBUG = (typeof VEGA_DEBUG == \"undefined\") ? {} : VEGA_DEBUG;\n",
       "  (function(spec, embedOpt){\n",
       "    let outputDiv = document.currentScript.previousElementSibling;\n",
       "    if (outputDiv.id !== \"altair-viz-eb4c2248809d4242beac575077f6fecd\") {\n",
       "      outputDiv = document.getElementById(\"altair-viz-eb4c2248809d4242beac575077f6fecd\");\n",
       "    }\n",
       "\n",
       "    const paths = {\n",
       "      \"vega\": \"https://cdn.jsdelivr.net/npm/vega@5?noext\",\n",
       "      \"vega-lib\": \"https://cdn.jsdelivr.net/npm/vega-lib?noext\",\n",
       "      \"vega-lite\": \"https://cdn.jsdelivr.net/npm/vega-lite@5.20.1?noext\",\n",
       "      \"vega-embed\": \"https://cdn.jsdelivr.net/npm/vega-embed@6?noext\",\n",
       "    };\n",
       "\n",
       "    function maybeLoadScript(lib, version) {\n",
       "      var key = `${lib.replace(\"-\", \"\")}_version`;\n",
       "      return (VEGA_DEBUG[key] == version) ?\n",
       "        Promise.resolve(paths[lib]) :\n",
       "        new Promise(function(resolve, reject) {\n",
       "          var s = document.createElement('script');\n",
       "          document.getElementsByTagName(\"head\")[0].appendChild(s);\n",
       "          s.async = true;\n",
       "          s.onload = () => {\n",
       "            VEGA_DEBUG[key] = version;\n",
       "            return resolve(paths[lib]);\n",
       "          };\n",
       "          s.onerror = () => reject(`Error loading script: ${paths[lib]}`);\n",
       "          s.src = paths[lib];\n",
       "        });\n",
       "    }\n",
       "\n",
       "    function showError(err) {\n",
       "      outputDiv.innerHTML = `<div class=\"error\" style=\"color:red;\">${err}</div>`;\n",
       "      throw err;\n",
       "    }\n",
       "\n",
       "    function displayChart(vegaEmbed) {\n",
       "      vegaEmbed(outputDiv, spec, embedOpt)\n",
       "        .catch(err => showError(`Javascript Error: ${err.message}<br>This usually means there's a typo in your chart specification. See the javascript console for the full traceback.`));\n",
       "    }\n",
       "\n",
       "    if(typeof define === \"function\" && define.amd) {\n",
       "      requirejs.config({paths});\n",
       "      let deps = [\"vega-embed\"];\n",
       "      require(deps, displayChart, err => showError(`Error loading script: ${err.message}`));\n",
       "    } else {\n",
       "      maybeLoadScript(\"vega\", \"5\")\n",
       "        .then(() => maybeLoadScript(\"vega-lite\", \"5.20.1\"))\n",
       "        .then(() => maybeLoadScript(\"vega-embed\", \"6\"))\n",
       "        .catch(showError)\n",
       "        .then(() => displayChart(vegaEmbed));\n",
       "    }\n",
       "  })({\"config\": {\"view\": {\"continuousWidth\": 300, \"continuousHeight\": 300}}, \"vconcat\": [{\"data\": {\"name\": \"data-fdbbea47280a3d764fb751669105b090\"}, \"mark\": {\"type\": \"bar\"}, \"encoding\": {\"color\": {\"field\": \"TrainingStatus\", \"scale\": {\"domain\": [\"Untrained\", \"Trained\"], \"range\": [\"red\", \"green\"]}, \"title\": \"Training Status\", \"type\": \"nominal\"}, \"tooltip\": [{\"field\": \"Region\", \"title\": \"Region\", \"type\": \"nominal\"}, {\"field\": \"Total\", \"title\": \"Total People\", \"type\": \"quantitative\"}, {\"field\": \"TrainingStatus\", \"title\": \"Status\", \"type\": \"nominal\"}, {\"field\": \"Count\", \"title\": \"Count\", \"type\": \"quantitative\"}], \"x\": {\"field\": \"Region\", \"title\": \"Region\", \"type\": \"nominal\"}, \"y\": {\"field\": \"Count\", \"stack\": true, \"title\": \"Number of People\", \"type\": \"quantitative\"}}, \"height\": 300, \"title\": \"Region-Level Summary: Training Progress\", \"width\": 600}, {\"hconcat\": [{\"data\": {\"name\": \"data-aefb2e2f2325505ab12b0b979df07fa3\"}, \"mark\": {\"type\": \"bar\"}, \"encoding\": {\"color\": {\"field\": \"TrainingStatus\", \"scale\": {\"domain\": [\"Untrained\", \"Trained\"], \"range\": [\"red\", \"green\"]}, \"title\": \"Training Status\", \"type\": \"nominal\"}, \"tooltip\": [{\"field\": \"Region\", \"title\": \"Region\", \"type\": \"nominal\"}, {\"field\": \"Office\", \"title\": \"Office\", \"type\": \"nominal\"}, {\"field\": \"Total\", \"title\": \"Total People\", \"type\": \"quantitative\"}, {\"field\": \"TrainingStatus\", \"title\": \"Status\", \"type\": \"nominal\"}, {\"field\": \"Count\", \"title\": \"Count\", \"type\": \"quantitative\"}], \"x\": {\"field\": \"Office\", \"title\": \"Office\", \"type\": \"nominal\"}, \"y\": {\"field\": \"Count\", \"stack\": true, \"title\": \"Number of People\", \"type\": \"quantitative\"}}, \"height\": 200, \"title\": \"Asia Region\", \"width\": 300}, {\"data\": {\"name\": \"data-2c1af67ceb7e0f34a09fd95c7ced17ed\"}, \"mark\": {\"type\": \"bar\"}, \"encoding\": {\"color\": {\"field\": \"TrainingStatus\", \"scale\": {\"domain\": [\"Untrained\", \"Trained\"], \"range\": [\"red\", \"green\"]}, \"title\": \"Training Status\", \"type\": \"nominal\"}, \"tooltip\": [{\"field\": \"Region\", \"title\": \"Region\", \"type\": \"nominal\"}, {\"field\": \"Office\", \"title\": \"Office\", \"type\": \"nominal\"}, {\"field\": \"Total\", \"title\": \"Total People\", \"type\": \"quantitative\"}, {\"field\": \"TrainingStatus\", \"title\": \"Status\", \"type\": \"nominal\"}, {\"field\": \"Count\", \"title\": \"Count\", \"type\": \"quantitative\"}], \"x\": {\"field\": \"Office\", \"title\": \"Office\", \"type\": \"nominal\"}, \"y\": {\"field\": \"Count\", \"stack\": true, \"title\": \"Number of People\", \"type\": \"quantitative\"}}, \"height\": 200, \"title\": \"EME Region\", \"width\": 300}], \"title\": \"Office-Level Detail: Training Progress by Region\"}], \"title\": \"Training Progress Overview\", \"$schema\": \"https://vega.github.io/schema/vega-lite/v5.20.1.json\", \"datasets\": {\"data-fdbbea47280a3d764fb751669105b090\": [{\"Region\": \"Asia\", \"Total\": 73.0, \"TrainingStatus\": \"Trained\", \"Count\": 69.0}, {\"Region\": \"EME\", \"Total\": 312.0, \"TrainingStatus\": \"Trained\", \"Count\": 134.0}, {\"Region\": \"Asia\", \"Total\": 73.0, \"TrainingStatus\": \"Untrained\", \"Count\": 4.0}, {\"Region\": \"EME\", \"Total\": 312.0, \"TrainingStatus\": \"Untrained\", \"Count\": 178.0}], \"data-aefb2e2f2325505ab12b0b979df07fa3\": [{\"Region\": \"Asia\", \"Office\": \"Hong Kong\", \"Total\": 56.0, \"TrainingStatus\": \"Trained\", \"Count\": 54.0}, {\"Region\": \"Asia\", \"Office\": \"Resource Law LLC\", \"Total\": 2.0, \"TrainingStatus\": \"Trained\", \"Count\": 2.0}, {\"Region\": \"Asia\", \"Office\": \"Shanghai\", \"Total\": 3.0, \"TrainingStatus\": \"Trained\", \"Count\": 2.0}, {\"Region\": \"Asia\", \"Office\": \"Singapore\", \"Total\": 12.0, \"TrainingStatus\": \"Trained\", \"Count\": 11.0}, {\"Region\": \"Asia\", \"Office\": \"Hong Kong\", \"Total\": 56.0, \"TrainingStatus\": \"Untrained\", \"Count\": 2.0}, {\"Region\": \"Asia\", \"Office\": \"Resource Law LLC\", \"Total\": 2.0, \"TrainingStatus\": \"Untrained\", \"Count\": 0.0}, {\"Region\": \"Asia\", \"Office\": \"Shanghai\", \"Total\": 3.0, \"TrainingStatus\": \"Untrained\", \"Count\": 1.0}, {\"Region\": \"Asia\", \"Office\": \"Singapore\", \"Total\": 12.0, \"TrainingStatus\": \"Untrained\", \"Count\": 1.0}], \"data-2c1af67ceb7e0f34a09fd95c7ced17ed\": [{\"Region\": \"EME\", \"Office\": \"Astana\", \"Total\": 2.0, \"TrainingStatus\": \"Trained\", \"Count\": 0.0}, {\"Region\": \"EME\", \"Office\": \"Athens\", \"Total\": 8.0, \"TrainingStatus\": \"Trained\", \"Count\": 3.0}, {\"Region\": \"EME\", \"Office\": \"Brussels\", \"Total\": 2.0, \"TrainingStatus\": \"Trained\", \"Count\": 1.0}, {\"Region\": \"EME\", \"Office\": \"Dubai\", \"Total\": 17.0, \"TrainingStatus\": \"Trained\", \"Count\": 14.0}, {\"Region\": \"EME\", \"Office\": \"Frankfurt\", \"Total\": 8.0, \"TrainingStatus\": \"Trained\", \"Count\": 2.0}, {\"Region\": \"EME\", \"Office\": \"London\", \"Total\": 201.0, \"TrainingStatus\": \"Trained\", \"Count\": 75.0}, {\"Region\": \"EME\", \"Office\": \"Munich\", \"Total\": 20.0, \"TrainingStatus\": \"Trained\", \"Count\": 13.0}, {\"Region\": \"EME\", \"Office\": \"Paris\", \"Total\": 54.0, \"TrainingStatus\": \"Trained\", \"Count\": 26.0}, {\"Region\": \"EME\", \"Office\": \"Astana\", \"Total\": 2.0, \"TrainingStatus\": \"Untrained\", \"Count\": 2.0}, {\"Region\": \"EME\", \"Office\": \"Athens\", \"Total\": 8.0, \"TrainingStatus\": \"Untrained\", \"Count\": 5.0}, {\"Region\": \"EME\", \"Office\": \"Brussels\", \"Total\": 2.0, \"TrainingStatus\": \"Untrained\", \"Count\": 1.0}, {\"Region\": \"EME\", \"Office\": \"Dubai\", \"Total\": 17.0, \"TrainingStatus\": \"Untrained\", \"Count\": 3.0}, {\"Region\": \"EME\", \"Office\": \"Frankfurt\", \"Total\": 8.0, \"TrainingStatus\": \"Untrained\", \"Count\": 6.0}, {\"Region\": \"EME\", \"Office\": \"London\", \"Total\": 201.0, \"TrainingStatus\": \"Untrained\", \"Count\": 126.0}, {\"Region\": \"EME\", \"Office\": \"Munich\", \"Total\": 20.0, \"TrainingStatus\": \"Untrained\", \"Count\": 7.0}, {\"Region\": \"EME\", \"Office\": \"Paris\", \"Total\": 54.0, \"TrainingStatus\": \"Untrained\", \"Count\": 28.0}]}}, {\"mode\": \"vega-lite\"});\n",
       "</script>"
      ],
      "text/plain": [
       "alt.VConcatChart(...)"
      ]
     },
     "execution_count": 13,
     "metadata": {},
     "output_type": "execute_result"
    }
   ],
   "source": [
    "final_chart"
   ]
  },
  {
   "cell_type": "code",
   "execution_count": 14,
   "id": "10ca09f7-2b99-4f6d-a1ea-47fd7c0d1e07",
   "metadata": {},
   "outputs": [
    {
     "ename": "ValueError",
     "evalue": "Saving charts in 'png' format requires the vl-convert-python package: see https://altair-viz.github.io/user_guide/saving_charts.html#png-svg-and-pdf-format",
     "output_type": "error",
     "traceback": [
      "\u001b[0;31m---------------------------------------------------------------------------\u001b[0m",
      "\u001b[0;31mValueError\u001b[0m                                Traceback (most recent call last)",
      "Cell \u001b[0;32mIn[14], line 1\u001b[0m\n\u001b[0;32m----> 1\u001b[0m \u001b[43mfinal_chart\u001b[49m\u001b[38;5;241;43m.\u001b[39;49m\u001b[43msave\u001b[49m\u001b[43m(\u001b[49m\u001b[38;5;124;43m\"\u001b[39;49m\u001b[38;5;124;43memea.png\u001b[39;49m\u001b[38;5;124;43m\"\u001b[39;49m\u001b[43m)\u001b[49m\n",
      "File \u001b[0;32m/opt/conda/lib/python3.12/site-packages/altair/vegalite/v5/api.py:2289\u001b[0m, in \u001b[0;36mTopLevelMixin.save\u001b[0;34m(self, fp, format, override_data_transformer, scale_factor, mode, vegalite_version, vega_version, vegaembed_version, embed_options, json_kwds, engine, inline, **kwargs)\u001b[0m\n\u001b[1;32m   2287\u001b[0m \u001b[38;5;28;01mif\u001b[39;00m override_data_transformer:\n\u001b[1;32m   2288\u001b[0m     \u001b[38;5;28;01mwith\u001b[39;00m data_transformers\u001b[38;5;241m.\u001b[39mdisable_max_rows():\n\u001b[0;32m-> 2289\u001b[0m         \u001b[43msave\u001b[49m\u001b[43m(\u001b[49m\u001b[38;5;241;43m*\u001b[39;49m\u001b[38;5;241;43m*\u001b[39;49m\u001b[43mkwds\u001b[49m\u001b[43m)\u001b[49m\n\u001b[1;32m   2290\u001b[0m \u001b[38;5;28;01melse\u001b[39;00m:\n\u001b[1;32m   2291\u001b[0m     save(\u001b[38;5;241m*\u001b[39m\u001b[38;5;241m*\u001b[39mkwds)\n",
      "File \u001b[0;32m/opt/conda/lib/python3.12/site-packages/altair/utils/save.py:224\u001b[0m, in \u001b[0;36msave\u001b[0;34m(chart, fp, vega_version, vegaembed_version, format, mode, vegalite_version, embed_options, json_kwds, scale_factor, engine, inline, **kwargs)\u001b[0m\n\u001b[1;32m    217\u001b[0m \u001b[38;5;28;01melse\u001b[39;00m:\n\u001b[1;32m    218\u001b[0m     \u001b[38;5;66;03m# Temporarily turn off any data transformers so that all data is inlined\u001b[39;00m\n\u001b[1;32m    219\u001b[0m     \u001b[38;5;66;03m# when calling chart.to_dict. This is relevant for vl-convert which cannot access\u001b[39;00m\n\u001b[1;32m    220\u001b[0m     \u001b[38;5;66;03m# local json files which could be created by a json data transformer. Furthermore,\u001b[39;00m\n\u001b[1;32m    221\u001b[0m     \u001b[38;5;66;03m# we don't exit the with statement until this function completed due to the issue\u001b[39;00m\n\u001b[1;32m    222\u001b[0m     \u001b[38;5;66;03m# described at https://github.com/vega/vl-convert/issues/31\u001b[39;00m\n\u001b[1;32m    223\u001b[0m     \u001b[38;5;28;01mwith\u001b[39;00m data_transformers\u001b[38;5;241m.\u001b[39menable(\u001b[38;5;124m\"\u001b[39m\u001b[38;5;124mdefault\u001b[39m\u001b[38;5;124m\"\u001b[39m), data_transformers\u001b[38;5;241m.\u001b[39mdisable_max_rows():\n\u001b[0;32m--> 224\u001b[0m         \u001b[43mperform_save\u001b[49m\u001b[43m(\u001b[49m\u001b[43m)\u001b[49m\n",
      "File \u001b[0;32m/opt/conda/lib/python3.12/site-packages/altair/utils/save.py:175\u001b[0m, in \u001b[0;36msave.<locals>.perform_save\u001b[0;34m()\u001b[0m\n\u001b[1;32m    171\u001b[0m     write_file_or_filename(\n\u001b[1;32m    172\u001b[0m         fp, mb_html[\u001b[38;5;124m\"\u001b[39m\u001b[38;5;124mtext/html\u001b[39m\u001b[38;5;124m\"\u001b[39m], mode\u001b[38;5;241m=\u001b[39m\u001b[38;5;124m\"\u001b[39m\u001b[38;5;124mw\u001b[39m\u001b[38;5;124m\"\u001b[39m, encoding\u001b[38;5;241m=\u001b[39mencoding\n\u001b[1;32m    173\u001b[0m     )\n\u001b[1;32m    174\u001b[0m \u001b[38;5;28;01melif\u001b[39;00m \u001b[38;5;28mformat\u001b[39m \u001b[38;5;241m==\u001b[39m \u001b[38;5;124m\"\u001b[39m\u001b[38;5;124mpng\u001b[39m\u001b[38;5;124m\"\u001b[39m:\n\u001b[0;32m--> 175\u001b[0m     mb_png \u001b[38;5;241m=\u001b[39m \u001b[43mspec_to_mimebundle\u001b[49m\u001b[43m(\u001b[49m\n\u001b[1;32m    176\u001b[0m \u001b[43m        \u001b[49m\u001b[43mspec\u001b[49m\u001b[38;5;241;43m=\u001b[39;49m\u001b[43mspec\u001b[49m\u001b[43m,\u001b[49m\n\u001b[1;32m    177\u001b[0m \u001b[43m        \u001b[49m\u001b[38;5;28;43mformat\u001b[39;49m\u001b[38;5;241;43m=\u001b[39;49m\u001b[38;5;28;43mformat\u001b[39;49m\u001b[43m,\u001b[49m\n\u001b[1;32m    178\u001b[0m \u001b[43m        \u001b[49m\u001b[43mmode\u001b[49m\u001b[38;5;241;43m=\u001b[39;49m\u001b[43minner_mode\u001b[49m\u001b[43m,\u001b[49m\n\u001b[1;32m    179\u001b[0m \u001b[43m        \u001b[49m\u001b[43mvega_version\u001b[49m\u001b[38;5;241;43m=\u001b[39;49m\u001b[43mvega_version\u001b[49m\u001b[43m,\u001b[49m\n\u001b[1;32m    180\u001b[0m \u001b[43m        \u001b[49m\u001b[43mvegalite_version\u001b[49m\u001b[38;5;241;43m=\u001b[39;49m\u001b[43mvegalite_version\u001b[49m\u001b[43m,\u001b[49m\n\u001b[1;32m    181\u001b[0m \u001b[43m        \u001b[49m\u001b[43mvegaembed_version\u001b[49m\u001b[38;5;241;43m=\u001b[39;49m\u001b[43mvegaembed_version\u001b[49m\u001b[43m,\u001b[49m\n\u001b[1;32m    182\u001b[0m \u001b[43m        \u001b[49m\u001b[43membed_options\u001b[49m\u001b[38;5;241;43m=\u001b[39;49m\u001b[43membed_options\u001b[49m\u001b[43m,\u001b[49m\n\u001b[1;32m    183\u001b[0m \u001b[43m        \u001b[49m\u001b[43mscale_factor\u001b[49m\u001b[38;5;241;43m=\u001b[39;49m\u001b[43mscale_factor\u001b[49m\u001b[43m,\u001b[49m\n\u001b[1;32m    184\u001b[0m \u001b[43m        \u001b[49m\u001b[43mengine\u001b[49m\u001b[38;5;241;43m=\u001b[39;49m\u001b[43mengine\u001b[49m\u001b[43m,\u001b[49m\n\u001b[1;32m    185\u001b[0m \u001b[43m        \u001b[49m\u001b[38;5;241;43m*\u001b[39;49m\u001b[38;5;241;43m*\u001b[39;49m\u001b[43mkwargs\u001b[49m\u001b[43m,\u001b[49m\n\u001b[1;32m    186\u001b[0m \u001b[43m    \u001b[49m\u001b[43m)\u001b[49m\n\u001b[1;32m    187\u001b[0m     write_file_or_filename(fp, mb_png[\u001b[38;5;241m0\u001b[39m][\u001b[38;5;124m\"\u001b[39m\u001b[38;5;124mimage/png\u001b[39m\u001b[38;5;124m\"\u001b[39m], mode\u001b[38;5;241m=\u001b[39m\u001b[38;5;124m\"\u001b[39m\u001b[38;5;124mwb\u001b[39m\u001b[38;5;124m\"\u001b[39m)\n\u001b[1;32m    188\u001b[0m \u001b[38;5;28;01melif\u001b[39;00m \u001b[38;5;28mformat\u001b[39m \u001b[38;5;129;01min\u001b[39;00m {\u001b[38;5;124m\"\u001b[39m\u001b[38;5;124msvg\u001b[39m\u001b[38;5;124m\"\u001b[39m, \u001b[38;5;124m\"\u001b[39m\u001b[38;5;124mpdf\u001b[39m\u001b[38;5;124m\"\u001b[39m, \u001b[38;5;124m\"\u001b[39m\u001b[38;5;124mvega\u001b[39m\u001b[38;5;124m\"\u001b[39m}:\n",
      "File \u001b[0;32m/opt/conda/lib/python3.12/site-packages/altair/utils/mimebundle.py:141\u001b[0m, in \u001b[0;36mspec_to_mimebundle\u001b[0;34m(spec, format, mode, vega_version, vegaembed_version, vegalite_version, embed_options, engine, **kwargs)\u001b[0m\n\u001b[1;32m    138\u001b[0m embed_options \u001b[38;5;241m=\u001b[39m preprocess_embed_options(final_embed_options)\n\u001b[1;32m    140\u001b[0m \u001b[38;5;28;01mif\u001b[39;00m \u001b[38;5;28mformat\u001b[39m \u001b[38;5;129;01min\u001b[39;00m {\u001b[38;5;124m\"\u001b[39m\u001b[38;5;124mpng\u001b[39m\u001b[38;5;124m\"\u001b[39m, \u001b[38;5;124m\"\u001b[39m\u001b[38;5;124msvg\u001b[39m\u001b[38;5;124m\"\u001b[39m, \u001b[38;5;124m\"\u001b[39m\u001b[38;5;124mpdf\u001b[39m\u001b[38;5;124m\"\u001b[39m, \u001b[38;5;124m\"\u001b[39m\u001b[38;5;124mvega\u001b[39m\u001b[38;5;124m\"\u001b[39m}:\n\u001b[0;32m--> 141\u001b[0m     \u001b[38;5;28;01mreturn\u001b[39;00m \u001b[43m_spec_to_mimebundle_with_engine\u001b[49m\u001b[43m(\u001b[49m\n\u001b[1;32m    142\u001b[0m \u001b[43m        \u001b[49m\u001b[43mspec\u001b[49m\u001b[43m,\u001b[49m\n\u001b[1;32m    143\u001b[0m \u001b[43m        \u001b[49m\u001b[43mcast\u001b[49m\u001b[43m(\u001b[49m\u001b[43mLiteral\u001b[49m\u001b[43m[\u001b[49m\u001b[38;5;124;43m\"\u001b[39;49m\u001b[38;5;124;43mpng\u001b[39;49m\u001b[38;5;124;43m\"\u001b[39;49m\u001b[43m,\u001b[49m\u001b[43m \u001b[49m\u001b[38;5;124;43m\"\u001b[39;49m\u001b[38;5;124;43msvg\u001b[39;49m\u001b[38;5;124;43m\"\u001b[39;49m\u001b[43m,\u001b[49m\u001b[43m \u001b[49m\u001b[38;5;124;43m\"\u001b[39;49m\u001b[38;5;124;43mpdf\u001b[39;49m\u001b[38;5;124;43m\"\u001b[39;49m\u001b[43m,\u001b[49m\u001b[43m \u001b[49m\u001b[38;5;124;43m\"\u001b[39;49m\u001b[38;5;124;43mvega\u001b[39;49m\u001b[38;5;124;43m\"\u001b[39;49m\u001b[43m]\u001b[49m\u001b[43m,\u001b[49m\u001b[43m \u001b[49m\u001b[38;5;28;43mformat\u001b[39;49m\u001b[43m)\u001b[49m\u001b[43m,\u001b[49m\n\u001b[1;32m    144\u001b[0m \u001b[43m        \u001b[49m\u001b[43minternal_mode\u001b[49m\u001b[43m,\u001b[49m\n\u001b[1;32m    145\u001b[0m \u001b[43m        \u001b[49m\u001b[43mengine\u001b[49m\u001b[38;5;241;43m=\u001b[39;49m\u001b[43mengine\u001b[49m\u001b[43m,\u001b[49m\n\u001b[1;32m    146\u001b[0m \u001b[43m        \u001b[49m\u001b[43mformat_locale\u001b[49m\u001b[38;5;241;43m=\u001b[39;49m\u001b[43membed_options\u001b[49m\u001b[38;5;241;43m.\u001b[39;49m\u001b[43mget\u001b[49m\u001b[43m(\u001b[49m\u001b[38;5;124;43m\"\u001b[39;49m\u001b[38;5;124;43mformatLocale\u001b[39;49m\u001b[38;5;124;43m\"\u001b[39;49m\u001b[43m,\u001b[49m\u001b[43m \u001b[49m\u001b[38;5;28;43;01mNone\u001b[39;49;00m\u001b[43m)\u001b[49m\u001b[43m,\u001b[49m\n\u001b[1;32m    147\u001b[0m \u001b[43m        \u001b[49m\u001b[43mtime_format_locale\u001b[49m\u001b[38;5;241;43m=\u001b[39;49m\u001b[43membed_options\u001b[49m\u001b[38;5;241;43m.\u001b[39;49m\u001b[43mget\u001b[49m\u001b[43m(\u001b[49m\u001b[38;5;124;43m\"\u001b[39;49m\u001b[38;5;124;43mtimeFormatLocale\u001b[39;49m\u001b[38;5;124;43m\"\u001b[39;49m\u001b[43m,\u001b[49m\u001b[43m \u001b[49m\u001b[38;5;28;43;01mNone\u001b[39;49;00m\u001b[43m)\u001b[49m\u001b[43m,\u001b[49m\n\u001b[1;32m    148\u001b[0m \u001b[43m        \u001b[49m\u001b[38;5;241;43m*\u001b[39;49m\u001b[38;5;241;43m*\u001b[39;49m\u001b[43mkwargs\u001b[49m\u001b[43m,\u001b[49m\n\u001b[1;32m    149\u001b[0m \u001b[43m    \u001b[49m\u001b[43m)\u001b[49m\n\u001b[1;32m    150\u001b[0m \u001b[38;5;28;01melif\u001b[39;00m \u001b[38;5;28mformat\u001b[39m \u001b[38;5;241m==\u001b[39m \u001b[38;5;124m\"\u001b[39m\u001b[38;5;124mhtml\u001b[39m\u001b[38;5;124m\"\u001b[39m:\n\u001b[1;32m    151\u001b[0m     html \u001b[38;5;241m=\u001b[39m spec_to_html(\n\u001b[1;32m    152\u001b[0m         spec,\n\u001b[1;32m    153\u001b[0m         mode\u001b[38;5;241m=\u001b[39minternal_mode,\n\u001b[0;32m   (...)\u001b[0m\n\u001b[1;32m    158\u001b[0m         \u001b[38;5;241m*\u001b[39m\u001b[38;5;241m*\u001b[39mkwargs,\n\u001b[1;32m    159\u001b[0m     )\n",
      "File \u001b[0;32m/opt/conda/lib/python3.12/site-packages/altair/utils/mimebundle.py:211\u001b[0m, in \u001b[0;36m_spec_to_mimebundle_with_engine\u001b[0;34m(spec, format, mode, format_locale, time_format_locale, **kwargs)\u001b[0m\n\u001b[1;32m    208\u001b[0m \u001b[38;5;66;03m# Normalize the engine string (if any) by lower casing\u001b[39;00m\n\u001b[1;32m    209\u001b[0m \u001b[38;5;66;03m# and removing underscores and hyphens\u001b[39;00m\n\u001b[1;32m    210\u001b[0m engine \u001b[38;5;241m=\u001b[39m kwargs\u001b[38;5;241m.\u001b[39mpop(\u001b[38;5;124m\"\u001b[39m\u001b[38;5;124mengine\u001b[39m\u001b[38;5;124m\"\u001b[39m, \u001b[38;5;28;01mNone\u001b[39;00m)\n\u001b[0;32m--> 211\u001b[0m normalized_engine \u001b[38;5;241m=\u001b[39m \u001b[43m_validate_normalize_engine\u001b[49m\u001b[43m(\u001b[49m\u001b[43mengine\u001b[49m\u001b[43m,\u001b[49m\u001b[43m \u001b[49m\u001b[38;5;28;43mformat\u001b[39;49m\u001b[43m)\u001b[49m\n\u001b[1;32m    213\u001b[0m \u001b[38;5;28;01mif\u001b[39;00m normalized_engine \u001b[38;5;241m==\u001b[39m \u001b[38;5;124m\"\u001b[39m\u001b[38;5;124mvlconvert\u001b[39m\u001b[38;5;124m\"\u001b[39m:\n\u001b[1;32m    214\u001b[0m     vlc \u001b[38;5;241m=\u001b[39m import_vl_convert()\n",
      "File \u001b[0;32m/opt/conda/lib/python3.12/site-packages/altair/utils/mimebundle.py:330\u001b[0m, in \u001b[0;36m_validate_normalize_engine\u001b[0;34m(engine, format)\u001b[0m\n\u001b[1;32m    325\u001b[0m     \u001b[38;5;28;01melse\u001b[39;00m:\n\u001b[1;32m    326\u001b[0m         msg \u001b[38;5;241m=\u001b[39m (\n\u001b[1;32m    327\u001b[0m             \u001b[38;5;124mf\u001b[39m\u001b[38;5;124m\"\u001b[39m\u001b[38;5;124mSaving charts in \u001b[39m\u001b[38;5;132;01m{\u001b[39;00m\u001b[38;5;28mformat\u001b[39m\u001b[38;5;132;01m!r}\u001b[39;00m\u001b[38;5;124m format requires the vl-convert-python package: \u001b[39m\u001b[38;5;124m\"\u001b[39m\n\u001b[1;32m    328\u001b[0m             \u001b[38;5;124m\"\u001b[39m\u001b[38;5;124msee https://altair-viz.github.io/user_guide/saving_charts.html#png-svg-and-pdf-format\u001b[39m\u001b[38;5;124m\"\u001b[39m\n\u001b[1;32m    329\u001b[0m         )\n\u001b[0;32m--> 330\u001b[0m         \u001b[38;5;28;01mraise\u001b[39;00m \u001b[38;5;167;01mValueError\u001b[39;00m(msg)\n\u001b[1;32m    331\u001b[0m \u001b[38;5;28;01melse\u001b[39;00m:\n\u001b[1;32m    332\u001b[0m     msg \u001b[38;5;241m=\u001b[39m \u001b[38;5;124mf\u001b[39m\u001b[38;5;124m\"\u001b[39m\u001b[38;5;124mInvalid conversion engine \u001b[39m\u001b[38;5;132;01m{\u001b[39;00mengine\u001b[38;5;132;01m!r}\u001b[39;00m\u001b[38;5;124m. Expected vl-convert\u001b[39m\u001b[38;5;124m\"\u001b[39m\n",
      "\u001b[0;31mValueError\u001b[0m: Saving charts in 'png' format requires the vl-convert-python package: see https://altair-viz.github.io/user_guide/saving_charts.html#png-svg-and-pdf-format"
     ]
    }
   ],
   "source": [
    "final_chart.save(\"emea.png\")"
   ]
  },
  {
   "cell_type": "code",
   "execution_count": null,
   "id": "0867d830-941e-4b95-81d7-3d782b2ff34c",
   "metadata": {},
   "outputs": [],
   "source": []
  }
 ],
 "metadata": {
  "kernelspec": {
   "display_name": "Python 3 (ipykernel)",
   "language": "python",
   "name": "python3"
  },
  "language_info": {
   "codemirror_mode": {
    "name": "ipython",
    "version": 3
   },
   "file_extension": ".py",
   "mimetype": "text/x-python",
   "name": "python",
   "nbconvert_exporter": "python",
   "pygments_lexer": "ipython3",
   "version": "3.12.8"
  }
 },
 "nbformat": 4,
 "nbformat_minor": 5
}

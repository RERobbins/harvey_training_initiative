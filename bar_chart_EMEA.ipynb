{
 "cells": [
  {
   "cell_type": "code",
   "execution_count": 1,
   "id": "489ff43f-0629-4fcc-af23-4a4bcd40f9c6",
   "metadata": {},
   "outputs": [],
   "source": [
    "import pandas as pd\n",
    "import altair as alt"
   ]
  },
  {
   "cell_type": "code",
   "execution_count": 2,
   "id": "1132e52b-d4a6-4a1a-a33e-1b723650138e",
   "metadata": {},
   "outputs": [],
   "source": [
    "df = pd.read_excel(\"training_status_directory.xlsx\")\n",
    "df = df[(df['Title Group'] == \"Associate\") & (df['Region'] != \"U.S.\")]"
   ]
  },
  {
   "cell_type": "code",
   "execution_count": 3,
   "id": "23ef17af-22cd-430a-af50-dc7aa366e924",
   "metadata": {},
   "outputs": [],
   "source": [
    "grouped = df.groupby(['Region', 'Office', 'Trained']).size().reset_index(name='Count')"
   ]
  },
  {
   "cell_type": "code",
   "execution_count": 4,
   "id": "48208cf2-bfe3-4e42-9417-c956209b7418",
   "metadata": {},
   "outputs": [],
   "source": [
    "pivot = grouped.pivot(index=['Region', 'Office'], columns='Trained', values='Count').reset_index()\n",
    "pivot.columns = ['Region', 'Office', 'UntrainedCount', 'TrainedCount']\n",
    "pivot = pivot.fillna(0)\n",
    "\n",
    "pivot['Total'] = pivot['TrainedCount'] + pivot['UntrainedCount']"
   ]
  },
  {
   "cell_type": "code",
   "execution_count": 5,
   "id": "ad5a5224-a5a5-4bb2-a31a-ef6acd900bad",
   "metadata": {},
   "outputs": [],
   "source": [
    "stacked_data_office = pivot.melt(\n",
    "    id_vars=['Region', 'Office', 'Total'],\n",
    "    value_vars=['TrainedCount', 'UntrainedCount'],\n",
    "    var_name='TrainingStatus',\n",
    "    value_name='Count'\n",
    ")\n",
    "\n",
    "stacked_data_office['TrainingStatus'] = pd.Categorical(\n",
    "    stacked_data_office['TrainingStatus'].map({\n",
    "        'UntrainedCount': 'Untrained',\n",
    "        'TrainedCount': 'Trained'\n",
    "    }),\n",
    ")"
   ]
  },
  {
   "cell_type": "code",
   "execution_count": 6,
   "id": "ab8330ef-49c8-4e90-adb5-32d62fb85e08",
   "metadata": {},
   "outputs": [],
   "source": [
    "region_data = pivot.groupby('Region').agg(\n",
    "    Total=('Total', 'sum'),\n",
    "    TrainedCount=('TrainedCount', 'sum'),\n",
    "    UntrainedCount=('UntrainedCount', 'sum')\n",
    ").reset_index()\n",
    "\n",
    "stacked_data_region = region_data.melt(\n",
    "    id_vars=['Region', 'Total'],\n",
    "    value_vars=['TrainedCount', 'UntrainedCount'],\n",
    "    var_name='TrainingStatus',\n",
    "    value_name='Count'\n",
    ")\n",
    "\n",
    "stacked_data_region['TrainingStatus'] = pd.Categorical(\n",
    "    stacked_data_region['TrainingStatus'].map({\n",
    "        'TrainedCount': 'Trained',\n",
    "        'UntrainedCount': 'Untrained'\n",
    "    }),\n",
    ")"
   ]
  },
  {
   "cell_type": "code",
   "execution_count": 7,
   "id": "c55d1232-8d16-4c7b-b1ad-987f03bbe22b",
   "metadata": {},
   "outputs": [],
   "source": [
    "def create_region_chart(region):\n",
    "    filtered_data = stacked_data_office[stacked_data_office['Region'] == region]\n",
    "    return alt.Chart(filtered_data).mark_bar().encode(\n",
    "        x=alt.X('Office:N', title='Office'),\n",
    "        y=alt.Y('Count:Q',  title='Number of People', stack=True),\n",
    "        color=alt.Color(\n",
    "            'TrainingStatus:N',\n",
    "            scale=alt.Scale(\n",
    "                domain=['Untrained', 'Trained'],\n",
    "                range=['red', 'green']\n",
    "            ),\n",
    "            title='Training Status'\n",
    "        ),\n",
    "        tooltip=[\n",
    "            alt.Tooltip('Region:N', title='Region'),\n",
    "            alt.Tooltip('Office:N', title='Office'),\n",
    "            alt.Tooltip('Total:Q', title='Total People'),\n",
    "            alt.Tooltip('TrainingStatus:N', title='Status'),\n",
    "            alt.Tooltip('Count:Q', title='Count')\n",
    "        ]\n",
    "    ).properties(\n",
    "        title=f'{region} Region',\n",
    "        width=300,\n",
    "        height=200\n",
    "    )\n"
   ]
  },
  {
   "cell_type": "code",
   "execution_count": 8,
   "id": "a6e65206-cc33-4d26-a36d-f7c0a51d6467",
   "metadata": {},
   "outputs": [],
   "source": [
    "region_chart = alt.Chart(stacked_data_region).mark_bar().encode(\n",
    "    x=alt.X('Region:N', title='Region'),\n",
    "    y=alt.Y('Count:Q', title='Number of People', stack=True),\n",
    "    color=alt.Color(\n",
    "        'TrainingStatus:N',\n",
    "        scale=alt.Scale(\n",
    "            domain=['Untrained', 'Trained'],\n",
    "            range=['red', 'green']\n",
    "        ),\n",
    "        title='Training Status'\n",
    "    ),\n",
    "    tooltip=[\n",
    "        alt.Tooltip('Region:N', title='Region'),\n",
    "        alt.Tooltip('Total:Q', title='Total People'),\n",
    "        alt.Tooltip('TrainingStatus:N', title='Status'),\n",
    "        alt.Tooltip('Count:Q', title='Count')\n",
    "    ]\n",
    ").properties(\n",
    "    title='Region-Level Summary: Training Progress',\n",
    "    width=600,\n",
    "    height=300\n",
    ")"
   ]
  },
  {
   "cell_type": "code",
   "execution_count": 9,
   "id": "18d4813a-b459-422e-8349-0e1348f1f1ef",
   "metadata": {},
   "outputs": [],
   "source": [
    "# Create individual charts for each region\n",
    "regions = stacked_data_office['Region'].unique()\n",
    "charts = [create_region_chart(region) for region in regions]"
   ]
  },
  {
   "cell_type": "code",
   "execution_count": 10,
   "id": "8db1bcac-14ea-484e-9c57-6baac23e159d",
   "metadata": {},
   "outputs": [],
   "source": [
    "# Combine the region-specific charts\n",
    "office_charts = alt.hconcat(*charts).properties(\n",
    "    title='Office-Level Detail: Training Progress by Region'\n",
    ")"
   ]
  },
  {
   "cell_type": "code",
   "execution_count": 11,
   "id": "44355907-709c-4da3-bbce-a543e70e71c6",
   "metadata": {},
   "outputs": [],
   "source": [
    "# Final Combined Chart\n",
    "final_chart = alt.vconcat(region_chart, office_charts).properties(\n",
    "    title='Training Progress Overview'\n",
    ")"
   ]
  },
  {
   "cell_type": "code",
   "execution_count": 12,
   "id": "e45a406c-1d5b-42dd-8240-3ce8b7950202",
   "metadata": {},
   "outputs": [
    {
     "data": {
      "text/html": [
       "\n",
       "<style>\n",
       "  #altair-viz-663cd018b8874eceba37846a63612ca3.vega-embed {\n",
       "    width: 100%;\n",
       "    display: flex;\n",
       "  }\n",
       "\n",
       "  #altair-viz-663cd018b8874eceba37846a63612ca3.vega-embed details,\n",
       "  #altair-viz-663cd018b8874eceba37846a63612ca3.vega-embed details summary {\n",
       "    position: relative;\n",
       "  }\n",
       "</style>\n",
       "<div id=\"altair-viz-663cd018b8874eceba37846a63612ca3\"></div>\n",
       "<script type=\"text/javascript\">\n",
       "  var VEGA_DEBUG = (typeof VEGA_DEBUG == \"undefined\") ? {} : VEGA_DEBUG;\n",
       "  (function(spec, embedOpt){\n",
       "    let outputDiv = document.currentScript.previousElementSibling;\n",
       "    if (outputDiv.id !== \"altair-viz-663cd018b8874eceba37846a63612ca3\") {\n",
       "      outputDiv = document.getElementById(\"altair-viz-663cd018b8874eceba37846a63612ca3\");\n",
       "    }\n",
       "\n",
       "    const paths = {\n",
       "      \"vega\": \"https://cdn.jsdelivr.net/npm/vega@5?noext\",\n",
       "      \"vega-lib\": \"https://cdn.jsdelivr.net/npm/vega-lib?noext\",\n",
       "      \"vega-lite\": \"https://cdn.jsdelivr.net/npm/vega-lite@5.20.1?noext\",\n",
       "      \"vega-embed\": \"https://cdn.jsdelivr.net/npm/vega-embed@6?noext\",\n",
       "    };\n",
       "\n",
       "    function maybeLoadScript(lib, version) {\n",
       "      var key = `${lib.replace(\"-\", \"\")}_version`;\n",
       "      return (VEGA_DEBUG[key] == version) ?\n",
       "        Promise.resolve(paths[lib]) :\n",
       "        new Promise(function(resolve, reject) {\n",
       "          var s = document.createElement('script');\n",
       "          document.getElementsByTagName(\"head\")[0].appendChild(s);\n",
       "          s.async = true;\n",
       "          s.onload = () => {\n",
       "            VEGA_DEBUG[key] = version;\n",
       "            return resolve(paths[lib]);\n",
       "          };\n",
       "          s.onerror = () => reject(`Error loading script: ${paths[lib]}`);\n",
       "          s.src = paths[lib];\n",
       "        });\n",
       "    }\n",
       "\n",
       "    function showError(err) {\n",
       "      outputDiv.innerHTML = `<div class=\"error\" style=\"color:red;\">${err}</div>`;\n",
       "      throw err;\n",
       "    }\n",
       "\n",
       "    function displayChart(vegaEmbed) {\n",
       "      vegaEmbed(outputDiv, spec, embedOpt)\n",
       "        .catch(err => showError(`Javascript Error: ${err.message}<br>This usually means there's a typo in your chart specification. See the javascript console for the full traceback.`));\n",
       "    }\n",
       "\n",
       "    if(typeof define === \"function\" && define.amd) {\n",
       "      requirejs.config({paths});\n",
       "      let deps = [\"vega-embed\"];\n",
       "      require(deps, displayChart, err => showError(`Error loading script: ${err.message}`));\n",
       "    } else {\n",
       "      maybeLoadScript(\"vega\", \"5\")\n",
       "        .then(() => maybeLoadScript(\"vega-lite\", \"5.20.1\"))\n",
       "        .then(() => maybeLoadScript(\"vega-embed\", \"6\"))\n",
       "        .catch(showError)\n",
       "        .then(() => displayChart(vegaEmbed));\n",
       "    }\n",
       "  })({\"config\": {\"view\": {\"continuousWidth\": 300, \"continuousHeight\": 300}}, \"vconcat\": [{\"data\": {\"name\": \"data-6105db4e5a816a28f60db121ea359d8f\"}, \"mark\": {\"type\": \"bar\"}, \"encoding\": {\"color\": {\"field\": \"TrainingStatus\", \"scale\": {\"domain\": [\"Untrained\", \"Trained\"], \"range\": [\"red\", \"green\"]}, \"title\": \"Training Status\", \"type\": \"nominal\"}, \"tooltip\": [{\"field\": \"Region\", \"title\": \"Region\", \"type\": \"nominal\"}, {\"field\": \"Total\", \"title\": \"Total People\", \"type\": \"quantitative\"}, {\"field\": \"TrainingStatus\", \"title\": \"Status\", \"type\": \"nominal\"}, {\"field\": \"Count\", \"title\": \"Count\", \"type\": \"quantitative\"}], \"x\": {\"field\": \"Region\", \"title\": \"Region\", \"type\": \"nominal\"}, \"y\": {\"field\": \"Count\", \"stack\": true, \"title\": \"Number of People\", \"type\": \"quantitative\"}}, \"height\": 300, \"title\": \"Region-Level Summary: Training Progress\", \"width\": 600}, {\"hconcat\": [{\"data\": {\"name\": \"data-7246320dd6a6009373465193add81249\"}, \"mark\": {\"type\": \"bar\"}, \"encoding\": {\"color\": {\"field\": \"TrainingStatus\", \"scale\": {\"domain\": [\"Untrained\", \"Trained\"], \"range\": [\"red\", \"green\"]}, \"title\": \"Training Status\", \"type\": \"nominal\"}, \"tooltip\": [{\"field\": \"Region\", \"title\": \"Region\", \"type\": \"nominal\"}, {\"field\": \"Office\", \"title\": \"Office\", \"type\": \"nominal\"}, {\"field\": \"Total\", \"title\": \"Total People\", \"type\": \"quantitative\"}, {\"field\": \"TrainingStatus\", \"title\": \"Status\", \"type\": \"nominal\"}, {\"field\": \"Count\", \"title\": \"Count\", \"type\": \"quantitative\"}], \"x\": {\"field\": \"Office\", \"title\": \"Office\", \"type\": \"nominal\"}, \"y\": {\"field\": \"Count\", \"stack\": true, \"title\": \"Number of People\", \"type\": \"quantitative\"}}, \"height\": 200, \"title\": \"Asia Region\", \"width\": 300}, {\"data\": {\"name\": \"data-32ae48653b48ec225617370810f60576\"}, \"mark\": {\"type\": \"bar\"}, \"encoding\": {\"color\": {\"field\": \"TrainingStatus\", \"scale\": {\"domain\": [\"Untrained\", \"Trained\"], \"range\": [\"red\", \"green\"]}, \"title\": \"Training Status\", \"type\": \"nominal\"}, \"tooltip\": [{\"field\": \"Region\", \"title\": \"Region\", \"type\": \"nominal\"}, {\"field\": \"Office\", \"title\": \"Office\", \"type\": \"nominal\"}, {\"field\": \"Total\", \"title\": \"Total People\", \"type\": \"quantitative\"}, {\"field\": \"TrainingStatus\", \"title\": \"Status\", \"type\": \"nominal\"}, {\"field\": \"Count\", \"title\": \"Count\", \"type\": \"quantitative\"}], \"x\": {\"field\": \"Office\", \"title\": \"Office\", \"type\": \"nominal\"}, \"y\": {\"field\": \"Count\", \"stack\": true, \"title\": \"Number of People\", \"type\": \"quantitative\"}}, \"height\": 200, \"title\": \"EME Region\", \"width\": 300}], \"title\": \"Office-Level Detail: Training Progress by Region\"}], \"title\": \"Training Progress Overview\", \"$schema\": \"https://vega.github.io/schema/vega-lite/v5.20.1.json\", \"datasets\": {\"data-6105db4e5a816a28f60db121ea359d8f\": [{\"Region\": \"Asia\", \"Total\": 73.0, \"TrainingStatus\": \"Trained\", \"Count\": 68.0}, {\"Region\": \"EME\", \"Total\": 308.0, \"TrainingStatus\": \"Trained\", \"Count\": 133.0}, {\"Region\": \"Asia\", \"Total\": 73.0, \"TrainingStatus\": \"Untrained\", \"Count\": 5.0}, {\"Region\": \"EME\", \"Total\": 308.0, \"TrainingStatus\": \"Untrained\", \"Count\": 175.0}], \"data-7246320dd6a6009373465193add81249\": [{\"Region\": \"Asia\", \"Office\": \"Hong Kong\", \"Total\": 56.0, \"TrainingStatus\": \"Trained\", \"Count\": 53.0}, {\"Region\": \"Asia\", \"Office\": \"Resource Law LLC\", \"Total\": 2.0, \"TrainingStatus\": \"Trained\", \"Count\": 2.0}, {\"Region\": \"Asia\", \"Office\": \"Shanghai\", \"Total\": 3.0, \"TrainingStatus\": \"Trained\", \"Count\": 2.0}, {\"Region\": \"Asia\", \"Office\": \"Singapore\", \"Total\": 12.0, \"TrainingStatus\": \"Trained\", \"Count\": 11.0}, {\"Region\": \"Asia\", \"Office\": \"Hong Kong\", \"Total\": 56.0, \"TrainingStatus\": \"Untrained\", \"Count\": 3.0}, {\"Region\": \"Asia\", \"Office\": \"Resource Law LLC\", \"Total\": 2.0, \"TrainingStatus\": \"Untrained\", \"Count\": 0.0}, {\"Region\": \"Asia\", \"Office\": \"Shanghai\", \"Total\": 3.0, \"TrainingStatus\": \"Untrained\", \"Count\": 1.0}, {\"Region\": \"Asia\", \"Office\": \"Singapore\", \"Total\": 12.0, \"TrainingStatus\": \"Untrained\", \"Count\": 1.0}], \"data-32ae48653b48ec225617370810f60576\": [{\"Region\": \"EME\", \"Office\": \"Astana\", \"Total\": 2.0, \"TrainingStatus\": \"Trained\", \"Count\": 0.0}, {\"Region\": \"EME\", \"Office\": \"Athens\", \"Total\": 8.0, \"TrainingStatus\": \"Trained\", \"Count\": 3.0}, {\"Region\": \"EME\", \"Office\": \"Brussels\", \"Total\": 2.0, \"TrainingStatus\": \"Trained\", \"Count\": 1.0}, {\"Region\": \"EME\", \"Office\": \"Dubai\", \"Total\": 17.0, \"TrainingStatus\": \"Trained\", \"Count\": 14.0}, {\"Region\": \"EME\", \"Office\": \"Frankfurt\", \"Total\": 8.0, \"TrainingStatus\": \"Trained\", \"Count\": 2.0}, {\"Region\": \"EME\", \"Office\": \"London\", \"Total\": 197.0, \"TrainingStatus\": \"Trained\", \"Count\": 74.0}, {\"Region\": \"EME\", \"Office\": \"Munich\", \"Total\": 20.0, \"TrainingStatus\": \"Trained\", \"Count\": 13.0}, {\"Region\": \"EME\", \"Office\": \"Paris\", \"Total\": 54.0, \"TrainingStatus\": \"Trained\", \"Count\": 26.0}, {\"Region\": \"EME\", \"Office\": \"Astana\", \"Total\": 2.0, \"TrainingStatus\": \"Untrained\", \"Count\": 2.0}, {\"Region\": \"EME\", \"Office\": \"Athens\", \"Total\": 8.0, \"TrainingStatus\": \"Untrained\", \"Count\": 5.0}, {\"Region\": \"EME\", \"Office\": \"Brussels\", \"Total\": 2.0, \"TrainingStatus\": \"Untrained\", \"Count\": 1.0}, {\"Region\": \"EME\", \"Office\": \"Dubai\", \"Total\": 17.0, \"TrainingStatus\": \"Untrained\", \"Count\": 3.0}, {\"Region\": \"EME\", \"Office\": \"Frankfurt\", \"Total\": 8.0, \"TrainingStatus\": \"Untrained\", \"Count\": 6.0}, {\"Region\": \"EME\", \"Office\": \"London\", \"Total\": 197.0, \"TrainingStatus\": \"Untrained\", \"Count\": 123.0}, {\"Region\": \"EME\", \"Office\": \"Munich\", \"Total\": 20.0, \"TrainingStatus\": \"Untrained\", \"Count\": 7.0}, {\"Region\": \"EME\", \"Office\": \"Paris\", \"Total\": 54.0, \"TrainingStatus\": \"Untrained\", \"Count\": 28.0}]}}, {\"mode\": \"vega-lite\"});\n",
       "</script>"
      ],
      "text/plain": [
       "alt.VConcatChart(...)"
      ]
     },
     "execution_count": 12,
     "metadata": {},
     "output_type": "execute_result"
    }
   ],
   "source": [
    "final_chart"
   ]
  },
  {
   "cell_type": "code",
   "execution_count": 13,
   "id": "10ca09f7-2b99-4f6d-a1ea-47fd7c0d1e07",
   "metadata": {},
   "outputs": [],
   "source": [
    "final_chart.save(\"emea.png\")"
   ]
  },
  {
   "cell_type": "code",
   "execution_count": null,
   "id": "7c85da47-3860-4f0c-a4ee-3ec245db1601",
   "metadata": {},
   "outputs": [],
   "source": []
  }
 ],
 "metadata": {
  "kernelspec": {
   "display_name": "Python 3 (ipykernel)",
   "language": "python",
   "name": "python3"
  },
  "language_info": {
   "codemirror_mode": {
    "name": "ipython",
    "version": 3
   },
   "file_extension": ".py",
   "mimetype": "text/x-python",
   "name": "python",
   "nbconvert_exporter": "python",
   "pygments_lexer": "ipython3",
   "version": "3.12.8"
  }
 },
 "nbformat": 4,
 "nbformat_minor": 5
}

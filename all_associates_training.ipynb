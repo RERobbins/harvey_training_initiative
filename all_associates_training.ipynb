{
 "cells": [
  {
   "cell_type": "code",
   "execution_count": 2,
   "id": "b598cc62-78d1-479b-a240-e6c0ae5276f7",
   "metadata": {
    "executionInfo": {
     "elapsed": 2371,
     "status": "ok",
     "timestamp": 1736011185888,
     "user": {
      "displayName": "Richard Robbins",
      "userId": "11322966614005346890"
     },
     "user_tz": 480
    },
    "id": "b598cc62-78d1-479b-a240-e6c0ae5276f7"
   },
   "outputs": [],
   "source": [
    "import os\n",
    "import pandas as pd"
   ]
  },
  {
   "cell_type": "code",
   "execution_count": 3,
   "id": "rpn-c0IPckn6",
   "metadata": {
    "colab": {
     "base_uri": "https://localhost:8080/"
    },
    "executionInfo": {
     "elapsed": 19194,
     "status": "ok",
     "timestamp": 1736011209260,
     "user": {
      "displayName": "Richard Robbins",
      "userId": "11322966614005346890"
     },
     "user_tz": 480
    },
    "id": "rpn-c0IPckn6",
    "outputId": "b6aeb246-edd1-492f-a91a-fdbb2a5ef1d0"
   },
   "outputs": [],
   "source": [
    "#from google.colab import drive\n",
    "#drive.mount('/content/drive')"
   ]
  },
  {
   "cell_type": "code",
   "execution_count": 4,
   "id": "5kt9omNO3ocv",
   "metadata": {
    "executionInfo": {
     "elapsed": 133,
     "status": "ok",
     "timestamp": 1736011446600,
     "user": {
      "displayName": "Richard Robbins",
      "userId": "11322966614005346890"
     },
     "user_tz": 480
    },
    "id": "5kt9omNO3ocv"
   },
   "outputs": [],
   "source": [
    "#os.chdir(\"/content/drive/MyDrive/Harvey Associate Initiative/\")\n",
    "os.chdir(\"/Users/rerobbins/projects/work/harvey_training_initiative\")"
   ]
  },
  {
   "cell_type": "code",
   "execution_count": 5,
   "id": "x-Ck4zPca_Zl",
   "metadata": {
    "executionInfo": {
     "elapsed": 2153,
     "status": "ok",
     "timestamp": 1736011452531,
     "user": {
      "displayName": "Richard Robbins",
      "userId": "11322966614005346890"
     },
     "user_tz": 480
    },
    "id": "x-Ck4zPca_Zl"
   },
   "outputs": [],
   "source": [
    "df = pd.read_excel(\"training_status_directory.xlsx\")"
   ]
  },
  {
   "cell_type": "code",
   "execution_count": 6,
   "id": "9440cff6-8c22-48f3-907f-639fac8ed600",
   "metadata": {},
   "outputs": [
    {
     "data": {
      "text/plain": [
       "Index(['Email', 'Name', 'Title', 'Title Stem', 'Title Group', 'Attorney',\n",
       "       'Department', 'Group', 'Office', 'Region', 'Trained'],\n",
       "      dtype='object')"
      ]
     },
     "execution_count": 6,
     "metadata": {},
     "output_type": "execute_result"
    }
   ],
   "source": [
    "df.columns"
   ]
  },
  {
   "cell_type": "code",
   "execution_count": 7,
   "id": "4b172b5a-ca8e-4757-9d9d-a6835cba3852",
   "metadata": {
    "colab": {
     "base_uri": "https://localhost:8080/",
     "height": 580
    },
    "executionInfo": {
     "elapsed": 146,
     "status": "ok",
     "timestamp": 1736012604156,
     "user": {
      "displayName": "Richard Robbins",
      "userId": "11322966614005346890"
     },
     "user_tz": 480
    },
    "id": "4b172b5a-ca8e-4757-9d9d-a6835cba3852",
    "outputId": "8d5913cb-dcc0-4d1d-cfd8-c7d8118813e4"
   },
   "outputs": [],
   "source": [
    "associates = df[df['Title Group'] == \"Associate\"]"
   ]
  },
  {
   "cell_type": "code",
   "execution_count": 8,
   "id": "d880427e-2d08-4efe-b9cc-c3015cb47f48",
   "metadata": {
    "executionInfo": {
     "elapsed": 130,
     "status": "ok",
     "timestamp": 1736012842438,
     "user": {
      "displayName": "Richard Robbins",
      "userId": "11322966614005346890"
     },
     "user_tz": 480
    },
    "id": "d880427e-2d08-4efe-b9cc-c3015cb47f48"
   },
   "outputs": [],
   "source": [
    "target = associates[~associates[\"Trained\"]]"
   ]
  },
  {
   "cell_type": "code",
   "execution_count": 9,
   "id": "cbf2257a-584f-44f6-9955-c95651f420ca",
   "metadata": {
    "executionInfo": {
     "elapsed": 226,
     "status": "ok",
     "timestamp": 1736012846397,
     "user": {
      "displayName": "Richard Robbins",
      "userId": "11322966614005346890"
     },
     "user_tz": 480
    },
    "id": "cbf2257a-584f-44f6-9955-c95651f420ca"
   },
   "outputs": [],
   "source": [
    "target.to_excel(\"training_candidates.xlsx\", index=False)"
   ]
  },
  {
   "cell_type": "code",
   "execution_count": 10,
   "id": "701c5f28-393e-4b38-8bf1-f50e15c6e907",
   "metadata": {
    "colab": {
     "base_uri": "https://localhost:8080/"
    },
    "executionInfo": {
     "elapsed": 146,
     "status": "ok",
     "timestamp": 1736012863255,
     "user": {
      "displayName": "Richard Robbins",
      "userId": "11322966614005346890"
     },
     "user_tz": 480
    },
    "id": "701c5f28-393e-4b38-8bf1-f50e15c6e907",
    "outputId": "0465160e-b061-49dd-88d1-37a34ad3ee02"
   },
   "outputs": [
    {
     "data": {
      "text/plain": [
       "542"
      ]
     },
     "execution_count": 10,
     "metadata": {},
     "output_type": "execute_result"
    }
   ],
   "source": [
    "len(target)"
   ]
  },
  {
   "cell_type": "code",
   "execution_count": 11,
   "id": "98ba659c-f524-4c5a-9819-87d5f9eb5fcf",
   "metadata": {
    "colab": {
     "base_uri": "https://localhost:8080/",
     "height": 304
    },
    "executionInfo": {
     "elapsed": 137,
     "status": "ok",
     "timestamp": 1736012882471,
     "user": {
      "displayName": "Richard Robbins",
      "userId": "11322966614005346890"
     },
     "user_tz": 480
    },
    "id": "98ba659c-f524-4c5a-9819-87d5f9eb5fcf",
    "outputId": "aa77750c-fcdc-4024-ca1a-eabec380cc21"
   },
   "outputs": [
    {
     "data": {
      "text/plain": [
       "Department\n",
       "Business & Finance              271\n",
       "Litigation                      193\n",
       "Summer Associates & Trainees     72\n",
       "Resource Law LLC                  3\n",
       "Operations                        2\n",
       "New Associates                    1\n",
       "Name: count, dtype: int64"
      ]
     },
     "execution_count": 11,
     "metadata": {},
     "output_type": "execute_result"
    }
   ],
   "source": [
    "target[\"Department\"].value_counts()"
   ]
  },
  {
   "cell_type": "code",
   "execution_count": 12,
   "id": "xUYbFKNycM6l",
   "metadata": {
    "colab": {
     "base_uri": "https://localhost:8080/",
     "height": 304
    },
    "executionInfo": {
     "elapsed": 164,
     "status": "ok",
     "timestamp": 1736012900235,
     "user": {
      "displayName": "Richard Robbins",
      "userId": "11322966614005346890"
     },
     "user_tz": 480
    },
    "id": "xUYbFKNycM6l",
    "outputId": "0ce401ea-a1d2-4aa2-f2e5-efca850cf0ef"
   },
   "outputs": [
    {
     "data": {
      "text/plain": [
       "Office\n",
       "London              38\n",
       "Paris               23\n",
       "Hong Kong            4\n",
       "Munich               3\n",
       "Resource Law LLC     2\n",
       "Frankfurt            2\n",
       "Name: count, dtype: int64"
      ]
     },
     "execution_count": 12,
     "metadata": {},
     "output_type": "execute_result"
    }
   ],
   "source": [
    "target[target['Department']==\"Summer Associates & Trainees\"][\"Office\"].value_counts()"
   ]
  },
  {
   "cell_type": "code",
   "execution_count": 13,
   "id": "aefc59ce-259f-4a6c-8055-c6dffa559eb0",
   "metadata": {
    "colab": {
     "base_uri": "https://localhost:8080/",
     "height": 210
    },
    "executionInfo": {
     "elapsed": 150,
     "status": "ok",
     "timestamp": 1736012903733,
     "user": {
      "displayName": "Richard Robbins",
      "userId": "11322966614005346890"
     },
     "user_tz": 480
    },
    "id": "aefc59ce-259f-4a6c-8055-c6dffa559eb0",
    "outputId": "bd95fd0b-8dd3-4bff-df79-0c45c63f6a31"
   },
   "outputs": [
    {
     "data": {
      "text/plain": [
       "Region\n",
       "U.S.    272\n",
       "EME     220\n",
       "Asia     50\n",
       "Name: count, dtype: int64"
      ]
     },
     "execution_count": 13,
     "metadata": {},
     "output_type": "execute_result"
    }
   ],
   "source": [
    "target[\"Region\"].value_counts()"
   ]
  },
  {
   "cell_type": "code",
   "execution_count": 14,
   "id": "b5859eb7-fd7d-42b8-b68c-47e96b10274c",
   "metadata": {
    "executionInfo": {
     "elapsed": 141,
     "status": "ok",
     "timestamp": 1736012910686,
     "user": {
      "displayName": "Richard Robbins",
      "userId": "11322966614005346890"
     },
     "user_tz": 480
    },
    "id": "b5859eb7-fd7d-42b8-b68c-47e96b10274c"
   },
   "outputs": [],
   "source": [
    "us_target = target[target[\"Region\"]==\"U.S.\"]\n",
    "emea_target = target[target[\"Region\"]!=\"U.S.\"]"
   ]
  },
  {
   "cell_type": "code",
   "execution_count": 15,
   "id": "370d03a4-cfe4-411c-a534-30eb6c24144b",
   "metadata": {
    "colab": {
     "base_uri": "https://localhost:8080/"
    },
    "executionInfo": {
     "elapsed": 128,
     "status": "ok",
     "timestamp": 1736012913898,
     "user": {
      "displayName": "Richard Robbins",
      "userId": "11322966614005346890"
     },
     "user_tz": 480
    },
    "id": "370d03a4-cfe4-411c-a534-30eb6c24144b",
    "outputId": "74496697-263f-46c4-edbc-8421b1d460bc"
   },
   "outputs": [
    {
     "data": {
      "text/plain": [
       "[272, 270]"
      ]
     },
     "execution_count": 15,
     "metadata": {},
     "output_type": "execute_result"
    }
   ],
   "source": [
    "[len(x) for x in [us_target, emea_target]]"
   ]
  },
  {
   "cell_type": "code",
   "execution_count": 16,
   "id": "26b3527a-f125-40a2-912d-ed20b8aef69c",
   "metadata": {
    "colab": {
     "base_uri": "https://localhost:8080/",
     "height": 554
    },
    "executionInfo": {
     "elapsed": 147,
     "status": "ok",
     "timestamp": 1736012919279,
     "user": {
      "displayName": "Richard Robbins",
      "userId": "11322966614005346890"
     },
     "user_tz": 480
    },
    "id": "26b3527a-f125-40a2-912d-ed20b8aef69c",
    "outputId": "d80d66c6-6dec-4add-c98c-e236800dd71d"
   },
   "outputs": [
    {
     "data": {
      "text/plain": [
       "Group\n",
       "Global Corporate Group                  55\n",
       "Global Commercial Disputes              48\n",
       "Financial Industry Group                44\n",
       "Life Sciences Health Industry Group     28\n",
       "Insurance Recovery                      21\n",
       "Real Estate                             14\n",
       "Intellectual Property                   14\n",
       "Entertainment & Media Industry Group    13\n",
       "Labor & Employment                      12\n",
       "Energy & Natural Resources              11\n",
       "State Tax                                6\n",
       "Global Regulatory Enforcement            5\n",
       "New Associates - Litigation              1\n",
       "Name: count, dtype: int64"
      ]
     },
     "execution_count": 16,
     "metadata": {},
     "output_type": "execute_result"
    }
   ],
   "source": [
    "us_target[\"Group\"].value_counts()"
   ]
  },
  {
   "cell_type": "code",
   "execution_count": 17,
   "id": "IM15SrFA3B43",
   "metadata": {
    "colab": {
     "base_uri": "https://localhost:8080/",
     "height": 81
    },
    "executionInfo": {
     "elapsed": 145,
     "status": "ok",
     "timestamp": 1736012927535,
     "user": {
      "displayName": "Richard Robbins",
      "userId": "11322966614005346890"
     },
     "user_tz": 480
    },
    "id": "IM15SrFA3B43",
    "outputId": "8ac83e28-de7c-437f-991a-29ac6791a640"
   },
   "outputs": [
    {
     "data": {
      "text/html": [
       "<div>\n",
       "<style scoped>\n",
       "    .dataframe tbody tr th:only-of-type {\n",
       "        vertical-align: middle;\n",
       "    }\n",
       "\n",
       "    .dataframe tbody tr th {\n",
       "        vertical-align: top;\n",
       "    }\n",
       "\n",
       "    .dataframe thead th {\n",
       "        text-align: right;\n",
       "    }\n",
       "</style>\n",
       "<table border=\"1\" class=\"dataframe\">\n",
       "  <thead>\n",
       "    <tr style=\"text-align: right;\">\n",
       "      <th></th>\n",
       "      <th>Email</th>\n",
       "      <th>Name</th>\n",
       "      <th>Title</th>\n",
       "      <th>Title Stem</th>\n",
       "      <th>Title Group</th>\n",
       "      <th>Attorney</th>\n",
       "      <th>Department</th>\n",
       "      <th>Group</th>\n",
       "      <th>Office</th>\n",
       "      <th>Region</th>\n",
       "      <th>Trained</th>\n",
       "    </tr>\n",
       "  </thead>\n",
       "  <tbody>\n",
       "    <tr>\n",
       "      <th>1865</th>\n",
       "      <td>tmartinez@reedsmith.com</td>\n",
       "      <td>Machin Martinez, Thayane</td>\n",
       "      <td>New Associate</td>\n",
       "      <td>New Associate</td>\n",
       "      <td>Associate</td>\n",
       "      <td>True</td>\n",
       "      <td>New Associates</td>\n",
       "      <td>New Associates - Litigation</td>\n",
       "      <td>Miami</td>\n",
       "      <td>U.S.</td>\n",
       "      <td>False</td>\n",
       "    </tr>\n",
       "  </tbody>\n",
       "</table>\n",
       "</div>"
      ],
      "text/plain": [
       "                        Email                      Name          Title  \\\n",
       "1865  tmartinez@reedsmith.com  Machin Martinez, Thayane  New Associate   \n",
       "\n",
       "         Title Stem Title Group  Attorney      Department  \\\n",
       "1865  New Associate   Associate      True  New Associates   \n",
       "\n",
       "                            Group Office Region  Trained  \n",
       "1865  New Associates - Litigation  Miami   U.S.    False  "
      ]
     },
     "execution_count": 17,
     "metadata": {},
     "output_type": "execute_result"
    }
   ],
   "source": [
    "target[target['Group']==\"New Associates - Litigation\"]"
   ]
  },
  {
   "cell_type": "code",
   "execution_count": 18,
   "id": "m4-YSA4c5jZC",
   "metadata": {
    "colab": {
     "base_uri": "https://localhost:8080/",
     "height": 81
    },
    "executionInfo": {
     "elapsed": 143,
     "status": "ok",
     "timestamp": 1736012933915,
     "user": {
      "displayName": "Richard Robbins",
      "userId": "11322966614005346890"
     },
     "user_tz": 480
    },
    "id": "m4-YSA4c5jZC",
    "outputId": "41cc818b-d77f-446e-c928-9bacc070aedb"
   },
   "outputs": [
    {
     "data": {
      "text/html": [
       "<div>\n",
       "<style scoped>\n",
       "    .dataframe tbody tr th:only-of-type {\n",
       "        vertical-align: middle;\n",
       "    }\n",
       "\n",
       "    .dataframe tbody tr th {\n",
       "        vertical-align: top;\n",
       "    }\n",
       "\n",
       "    .dataframe thead th {\n",
       "        text-align: right;\n",
       "    }\n",
       "</style>\n",
       "<table border=\"1\" class=\"dataframe\">\n",
       "  <thead>\n",
       "    <tr style=\"text-align: right;\">\n",
       "      <th></th>\n",
       "      <th>Email</th>\n",
       "      <th>Name</th>\n",
       "      <th>Title</th>\n",
       "      <th>Title Stem</th>\n",
       "      <th>Title Group</th>\n",
       "      <th>Attorney</th>\n",
       "      <th>Department</th>\n",
       "      <th>Group</th>\n",
       "      <th>Office</th>\n",
       "      <th>Region</th>\n",
       "      <th>Trained</th>\n",
       "    </tr>\n",
       "  </thead>\n",
       "  <tbody>\n",
       "  </tbody>\n",
       "</table>\n",
       "</div>"
      ],
      "text/plain": [
       "Empty DataFrame\n",
       "Columns: [Email, Name, Title, Title Stem, Title Group, Attorney, Department, Group, Office, Region, Trained]\n",
       "Index: []"
      ]
     },
     "execution_count": 18,
     "metadata": {},
     "output_type": "execute_result"
    }
   ],
   "source": [
    "target[target['Group']==\"US Corporate\"]"
   ]
  },
  {
   "cell_type": "code",
   "execution_count": 19,
   "id": "a564de92-d06c-470e-b8f8-a72a7b346421",
   "metadata": {
    "colab": {
     "base_uri": "https://localhost:8080/",
     "height": 210
    },
    "executionInfo": {
     "elapsed": 134,
     "status": "ok",
     "timestamp": 1736012942904,
     "user": {
      "displayName": "Richard Robbins",
      "userId": "11322966614005346890"
     },
     "user_tz": 480
    },
    "id": "a564de92-d06c-470e-b8f8-a72a7b346421",
    "outputId": "a00676aa-99e4-4b76-e39a-2f3c11d7ed76"
   },
   "outputs": [
    {
     "data": {
      "text/plain": [
       "Department\n",
       "Business & Finance    143\n",
       "Litigation            128\n",
       "New Associates          1\n",
       "Name: count, dtype: int64"
      ]
     },
     "execution_count": 19,
     "metadata": {},
     "output_type": "execute_result"
    }
   ],
   "source": [
    "us_target[\"Department\"].value_counts()"
   ]
  },
  {
   "cell_type": "code",
   "execution_count": 20,
   "id": "7059cca3-1ef3-4ef7-bbf3-955a72c7b368",
   "metadata": {
    "colab": {
     "base_uri": "https://localhost:8080/",
     "height": 304
    },
    "executionInfo": {
     "elapsed": 159,
     "status": "ok",
     "timestamp": 1736012947014,
     "user": {
      "displayName": "Richard Robbins",
      "userId": "11322966614005346890"
     },
     "user_tz": 480
    },
    "id": "7059cca3-1ef3-4ef7-bbf3-955a72c7b368",
    "outputId": "80773585-8e22-42af-e380-02d899c6a655"
   },
   "outputs": [
    {
     "data": {
      "text/plain": [
       "Title Stem\n",
       "Associate           446\n",
       "Trainee              70\n",
       "New Associate        22\n",
       "Summer Associate      2\n",
       "Seconded Trainee      1\n",
       "Law Clerk             1\n",
       "Name: count, dtype: int64"
      ]
     },
     "execution_count": 20,
     "metadata": {},
     "output_type": "execute_result"
    }
   ],
   "source": [
    "target[\"Title Stem\"].value_counts()"
   ]
  },
  {
   "cell_type": "code",
   "execution_count": 21,
   "id": "y4Af8eK2B7WU",
   "metadata": {
    "colab": {
     "base_uri": "https://localhost:8080/",
     "height": 492
    },
    "executionInfo": {
     "elapsed": 115,
     "status": "ok",
     "timestamp": 1736012950879,
     "user": {
      "displayName": "Richard Robbins",
      "userId": "11322966614005346890"
     },
     "user_tz": 480
    },
    "id": "y4Af8eK2B7WU",
    "outputId": "6400b7ba-1ace-4c80-bb48-9ba64d1d57e5"
   },
   "outputs": [
    {
     "data": {
      "text/plain": [
       "Office\n",
       "London              146\n",
       "Paris                39\n",
       "Hong Kong            33\n",
       "Munich               11\n",
       "Athens                8\n",
       "Singapore             8\n",
       "Resource Law LLC      7\n",
       "Frankfurt             7\n",
       "Dubai                 6\n",
       "Astana                2\n",
       "Shanghai              2\n",
       "Brussels              1\n",
       "Name: count, dtype: int64"
      ]
     },
     "execution_count": 21,
     "metadata": {},
     "output_type": "execute_result"
    }
   ],
   "source": [
    "emea_target['Office'].value_counts()"
   ]
  }
 ],
 "metadata": {
  "colab": {
   "provenance": []
  },
  "kernelspec": {
   "display_name": "Python [conda env:base] *",
   "language": "python",
   "name": "conda-base-py"
  },
  "language_info": {
   "codemirror_mode": {
    "name": "ipython",
    "version": 3
   },
   "file_extension": ".py",
   "mimetype": "text/x-python",
   "name": "python",
   "nbconvert_exporter": "python",
   "pygments_lexer": "ipython3",
   "version": "3.12.2"
  }
 },
 "nbformat": 4,
 "nbformat_minor": 5
}

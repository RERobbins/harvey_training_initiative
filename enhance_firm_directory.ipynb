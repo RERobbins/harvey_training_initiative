{
 "cells": [
  {
   "cell_type": "code",
   "execution_count": 2,
   "id": "b598cc62-78d1-479b-a240-e6c0ae5276f7",
   "metadata": {
    "executionInfo": {
     "elapsed": 2371,
     "status": "ok",
     "timestamp": 1736011185888,
     "user": {
      "displayName": "Richard Robbins",
      "userId": "11322966614005346890"
     },
     "user_tz": 480
    },
    "id": "b598cc62-78d1-479b-a240-e6c0ae5276f7"
   },
   "outputs": [],
   "source": [
    "import os\n",
    "import pandas as pd"
   ]
  },
  {
   "cell_type": "code",
   "execution_count": 4,
   "id": "rpn-c0IPckn6",
   "metadata": {
    "colab": {
     "base_uri": "https://localhost:8080/"
    },
    "executionInfo": {
     "elapsed": 19194,
     "status": "ok",
     "timestamp": 1736011209260,
     "user": {
      "displayName": "Richard Robbins",
      "userId": "11322966614005346890"
     },
     "user_tz": 480
    },
    "id": "rpn-c0IPckn6",
    "outputId": "b6aeb246-edd1-492f-a91a-fdbb2a5ef1d0"
   },
   "outputs": [],
   "source": [
    "#from google.colab import drive\n",
    "#drive.mount('/content/drive')"
   ]
  },
  {
   "cell_type": "code",
   "execution_count": 6,
   "id": "5kt9omNO3ocv",
   "metadata": {
    "executionInfo": {
     "elapsed": 133,
     "status": "ok",
     "timestamp": 1736011446600,
     "user": {
      "displayName": "Richard Robbins",
      "userId": "11322966614005346890"
     },
     "user_tz": 480
    },
    "id": "5kt9omNO3ocv"
   },
   "outputs": [],
   "source": [
    "#os.chdir(\"/content/drive/MyDrive/Harvey Associate Initiative/\")\n",
    "os.chdir(\"/Users/rerobbins/projects/work/harvey_training_initiative\")\n",
    "#os.chdir(\"/home/jovyan/work/work/harvey_training_initiative\")"
   ]
  },
  {
   "cell_type": "code",
   "execution_count": 8,
   "id": "x-Ck4zPca_Zl",
   "metadata": {
    "executionInfo": {
     "elapsed": 2153,
     "status": "ok",
     "timestamp": 1736011452531,
     "user": {
      "displayName": "Richard Robbins",
      "userId": "11322966614005346890"
     },
     "user_tz": 480
    },
    "id": "x-Ck4zPca_Zl"
   },
   "outputs": [
    {
     "data": {
      "text/plain": [
       "Index(['Email', 'Name', 'Title', 'Title Stem', 'Title Group', 'Attorney',\n",
       "       'Department', 'Group', 'Office', 'Region'],\n",
       "      dtype='object')"
      ]
     },
     "execution_count": 8,
     "metadata": {},
     "output_type": "execute_result"
    }
   ],
   "source": [
    "firm = pd.read_excel(\"firm_directory.xlsx\")\n",
    "firm.columns"
   ]
  },
  {
   "cell_type": "code",
   "execution_count": 10,
   "id": "6734008c-6811-49e7-b8ae-1335e1841ea6",
   "metadata": {},
   "outputs": [],
   "source": [
    "#licensed = pd.read_csv(\"Harvey_Reed Smith_Users_Export.csv\")\n",
    "#licensed['Email'] = licensed[\"Email\"].str.strip().str.lower()"
   ]
  },
  {
   "cell_type": "code",
   "execution_count": 12,
   "id": "3af224fd-cc18-47b6-ad21-ed4b1bad1f9d",
   "metadata": {},
   "outputs": [],
   "source": [
    "entra_group = pd.read_csv(\"2025-04-12 -- Harvey Licensed People.csv\")\n",
    "entra_group[\"workemail\"] = entra_group[\"workemail\"].str.strip().str.lower()"
   ]
  },
  {
   "cell_type": "code",
   "execution_count": 14,
   "id": "0ecc40a6-c50e-49d5-b5da-beee5d4d2e7f",
   "metadata": {},
   "outputs": [],
   "source": [
    "#firm['Trained'] = firm['Email'].isin(licensed['Email']) & firm['Email'].isin(entra_group['workemail'])\n",
    "firm['Trained'] = firm['Email'].isin(entra_group['workemail'])"
   ]
  },
  {
   "cell_type": "code",
   "execution_count": 16,
   "id": "106b43c5-7fea-4ae7-98c2-e1bfd82a95f2",
   "metadata": {},
   "outputs": [],
   "source": [
    "firm.to_excel(\"training_status_directory.xlsx\", index=False)"
   ]
  }
 ],
 "metadata": {
  "colab": {
   "provenance": []
  },
  "kernelspec": {
   "display_name": "Python [conda env:base] *",
   "language": "python",
   "name": "conda-base-py"
  },
  "language_info": {
   "codemirror_mode": {
    "name": "ipython",
    "version": 3
   },
   "file_extension": ".py",
   "mimetype": "text/x-python",
   "name": "python",
   "nbconvert_exporter": "python",
   "pygments_lexer": "ipython3",
   "version": "3.12.2"
  }
 },
 "nbformat": 4,
 "nbformat_minor": 5
}

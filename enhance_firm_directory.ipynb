{
 "cells": [
  {
   "cell_type": "code",
   "execution_count": null,
   "id": "b598cc62-78d1-479b-a240-e6c0ae5276f7",
   "metadata": {
    "executionInfo": {
     "elapsed": 2371,
     "status": "ok",
     "timestamp": 1736011185888,
     "user": {
      "displayName": "Richard Robbins",
      "userId": "11322966614005346890"
     },
     "user_tz": 480
    },
    "id": "b598cc62-78d1-479b-a240-e6c0ae5276f7"
   },
   "outputs": [],
   "source": [
    "import os\n",
    "import pandas as pd"
   ]
  },
  {
   "cell_type": "code",
   "execution_count": null,
   "id": "rpn-c0IPckn6",
   "metadata": {
    "colab": {
     "base_uri": "https://localhost:8080/"
    },
    "executionInfo": {
     "elapsed": 19194,
     "status": "ok",
     "timestamp": 1736011209260,
     "user": {
      "displayName": "Richard Robbins",
      "userId": "11322966614005346890"
     },
     "user_tz": 480
    },
    "id": "rpn-c0IPckn6",
    "outputId": "b6aeb246-edd1-492f-a91a-fdbb2a5ef1d0"
   },
   "outputs": [],
   "source": [
    "#from google.colab import drive\n",
    "#drive.mount('/content/drive')"
   ]
  },
  {
   "cell_type": "code",
   "execution_count": null,
   "id": "5kt9omNO3ocv",
   "metadata": {
    "executionInfo": {
     "elapsed": 133,
     "status": "ok",
     "timestamp": 1736011446600,
     "user": {
      "displayName": "Richard Robbins",
      "userId": "11322966614005346890"
     },
     "user_tz": 480
    },
    "id": "5kt9omNO3ocv"
   },
   "outputs": [],
   "source": [
    "#os.chdir(\"/content/drive/MyDrive/Harvey Associate Initiative/\")\n",
    "os.chdir(\"/Users/rerobbins/projects/work/harvey_training_initiative\")"
   ]
  },
  {
   "cell_type": "code",
   "execution_count": null,
   "id": "x-Ck4zPca_Zl",
   "metadata": {
    "executionInfo": {
     "elapsed": 2153,
     "status": "ok",
     "timestamp": 1736011452531,
     "user": {
      "displayName": "Richard Robbins",
      "userId": "11322966614005346890"
     },
     "user_tz": 480
    },
    "id": "x-Ck4zPca_Zl"
   },
   "outputs": [],
   "source": [
    "firm = pd.read_excel(\"firm_directory.xlsx\")\n",
    "firm.columns"
   ]
  },
  {
   "cell_type": "code",
   "execution_count": null,
   "id": "059eab4c-ced2-4b60-9551-42051744dd0d",
   "metadata": {
    "colab": {
     "base_uri": "https://localhost:8080/",
     "height": 979
    },
    "executionInfo": {
     "elapsed": 962,
     "status": "ok",
     "timestamp": 1736011487484,
     "user": {
      "displayName": "Richard Robbins",
      "userId": "11322966614005346890"
     },
     "user_tz": 480
    },
    "id": "059eab4c-ced2-4b60-9551-42051744dd0d",
    "outputId": "70d84161-0932-43bd-c49d-6e3e1cf2c4c6"
   },
   "outputs": [],
   "source": [
    "trained = pd.read_excel(\"Generative AI Users Aug 2024.xlsx\", sheet_name=\"SSO - Start March 29\", skiprows=1,)\n",
    "trained[\"Email Address\"] = trained[\"Email Address\"].str.strip().str.lower()\n",
    "trained_email = set(trained[\"Email Address\"])"
   ]
  },
  {
   "cell_type": "code",
   "execution_count": null,
   "id": "fc922e0e-61f2-4c97-9b1e-6a1a90c7056b",
   "metadata": {},
   "outputs": [],
   "source": [
    "firm['Trained'] = firm['Email'].isin(trained_email)"
   ]
  },
  {
   "cell_type": "code",
   "execution_count": null,
   "id": "c74a34d7-9886-492c-9c4c-8112a12335cb",
   "metadata": {},
   "outputs": [],
   "source": [
    "firm['Trained'].value_counts()"
   ]
  },
  {
   "cell_type": "code",
   "execution_count": null,
   "id": "64a3379a-d32e-4720-8765-5dbcdd51ebbe",
   "metadata": {},
   "outputs": [],
   "source": [
    "firm.columns"
   ]
  },
  {
   "cell_type": "code",
   "execution_count": null,
   "id": "cbf2257a-584f-44f6-9955-c95651f420ca",
   "metadata": {
    "executionInfo": {
     "elapsed": 226,
     "status": "ok",
     "timestamp": 1736012846397,
     "user": {
      "displayName": "Richard Robbins",
      "userId": "11322966614005346890"
     },
     "user_tz": 480
    },
    "id": "cbf2257a-584f-44f6-9955-c95651f420ca"
   },
   "outputs": [],
   "source": [
    "firm.to_excel(\"training_status_directory.xlsx\", index=False)"
   ]
  }
 ],
 "metadata": {
  "colab": {
   "provenance": []
  },
  "kernelspec": {
   "display_name": "Python [conda env:base] *",
   "language": "python",
   "name": "conda-base-py"
  },
  "language_info": {
   "codemirror_mode": {
    "name": "ipython",
    "version": 3
   },
   "file_extension": ".py",
   "mimetype": "text/x-python",
   "name": "python",
   "nbconvert_exporter": "python",
   "pygments_lexer": "ipython3",
   "version": "3.12.2"
  }
 },
 "nbformat": 4,
 "nbformat_minor": 5
}

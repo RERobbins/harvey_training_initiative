{
 "cells": [
  {
   "cell_type": "code",
   "execution_count": 1,
   "id": "489ff43f-0629-4fcc-af23-4a4bcd40f9c6",
   "metadata": {},
   "outputs": [],
   "source": [
    "import pandas as pd\n",
    "import altair as alt"
   ]
  },
  {
   "cell_type": "code",
   "execution_count": 2,
   "id": "1132e52b-d4a6-4a1a-a33e-1b723650138e",
   "metadata": {},
   "outputs": [],
   "source": [
    "df = pd.read_excel(\"training_status_directory.xlsx\")\n",
    "\n",
    "df = df[(df['Title Group'] == \"Associate\") & (df['Region'] == \"U.S.\")]"
   ]
  },
  {
   "cell_type": "code",
   "execution_count": 3,
   "id": "23ef17af-22cd-430a-af50-dc7aa366e924",
   "metadata": {},
   "outputs": [],
   "source": [
    "grouped = df.groupby(['Department', 'Group', 'Trained']).size().reset_index(name='Count')"
   ]
  },
  {
   "cell_type": "code",
   "execution_count": 4,
   "id": "48208cf2-bfe3-4e42-9417-c956209b7418",
   "metadata": {},
   "outputs": [],
   "source": [
    "# Pivot the data to get counts of trained and untrained\n",
    "pivot = grouped.pivot(index=['Department', 'Group'], columns='Trained', values='Count').reset_index()\n",
    "pivot.columns = ['Department', 'Group', 'UntrainedCount', 'TrainedCount']\n",
    "pivot = pivot.fillna(0)\n",
    "\n",
    "# Add total column at the office level\n",
    "pivot['Total'] = pivot['TrainedCount'] + pivot['UntrainedCount']"
   ]
  },
  {
   "cell_type": "code",
   "execution_count": 5,
   "id": "ad5a5224-a5a5-4bb2-a31a-ef6acd900bad",
   "metadata": {},
   "outputs": [],
   "source": [
    "stacked_data_group = pivot.melt(\n",
    "    id_vars=['Department', 'Group', 'Total'],\n",
    "    value_vars=['TrainedCount', 'UntrainedCount'],\n",
    "    var_name='TrainingStatus',\n",
    "    value_name='Count'\n",
    ")\n",
    "\n",
    "# Change the categorical order here\n",
    "stacked_data_group['TrainingStatus'] = pd.Categorical(\n",
    "    stacked_data_group['TrainingStatus'].map({\n",
    "        'UntrainedCount': 'Untrained',\n",
    "        'TrainedCount': 'Trained'\n",
    "    }),\n",
    ")"
   ]
  },
  {
   "cell_type": "code",
   "execution_count": 6,
   "id": "ab8330ef-49c8-4e90-adb5-32d62fb85e08",
   "metadata": {},
   "outputs": [],
   "source": [
    "# Prepare the data for region-level chart\n",
    "department_data = pivot.groupby('Department').agg(\n",
    "    Total=('Total', 'sum'),\n",
    "    TrainedCount=('TrainedCount', 'sum'),\n",
    "    UntrainedCount=('UntrainedCount', 'sum')\n",
    ").reset_index()\n",
    "\n",
    "stacked_data_department = department_data.melt(\n",
    "    id_vars=['Department', 'Total'],\n",
    "    value_vars=['TrainedCount', 'UntrainedCount'],\n",
    "    var_name='TrainingStatus',\n",
    "    value_name='Count'\n",
    ")\n",
    "\n",
    "# Match the same categorical order here\n",
    "stacked_data_department['TrainingStatus'] = pd.Categorical(\n",
    "    stacked_data_department['TrainingStatus'].map({\n",
    "        'UntrainedCount': 'Untrained',\n",
    "        'TrainedCount': 'Trained'\n",
    "    }),\n",
    ")"
   ]
  },
  {
   "cell_type": "code",
   "execution_count": 7,
   "id": "c55d1232-8d16-4c7b-b1ad-987f03bbe22b",
   "metadata": {},
   "outputs": [],
   "source": [
    "def create_department_chart(department):\n",
    "    filtered_data = stacked_data_group[stacked_data_group['Department'] == department]\n",
    "    return alt.Chart(filtered_data).mark_bar().encode(\n",
    "        x=alt.X('Group:N', title='Group'),\n",
    "        y=alt.Y('Count:Q', \n",
    "                title='Number of People',\n",
    "                stack=True,\n",
    "                sort=\"descending\",\n",
    "                scale=alt.Scale(reverse=False)),  # Ensure y-axis grows upward\n",
    "        color=alt.Color(\n",
    "            'TrainingStatus:N',\n",
    "            scale=alt.Scale(\n",
    "                domain=['Untrained', 'Trained'],\n",
    "                range=['red', 'green']\n",
    "            ),\n",
    "            title='Training Status'\n",
    "        ),\n",
    "        tooltip=[\n",
    "            alt.Tooltip('Department:N', title='Department'),\n",
    "            alt.Tooltip('Group:N', title='Group'),\n",
    "            alt.Tooltip('Total:Q', title='Total People'),\n",
    "            alt.Tooltip('TrainingStatus:N', title='Status'),\n",
    "            alt.Tooltip('Count:Q', title='Count')\n",
    "        ]\n",
    "    ).properties(\n",
    "        title=f'{department} Department',\n",
    "        width=300,\n",
    "        height=200\n",
    "    )"
   ]
  },
  {
   "cell_type": "code",
   "execution_count": 8,
   "id": "a6e65206-cc33-4d26-a36d-f7c0a51d6467",
   "metadata": {},
   "outputs": [],
   "source": [
    "department_chart = alt.Chart(stacked_data_department).mark_bar().encode(\n",
    "    x=alt.X('Department:N', title='Department'),\n",
    "    y=alt.Y('Count:Q', \n",
    "            title='Number of People',\n",
    "            stack=True,\n",
    "            sort=\"descending\",\n",
    "            scale=alt.Scale(reverse=False)),  # Ensure y-axis grows upward\n",
    "    color=alt.Color(\n",
    "        'TrainingStatus:N',\n",
    "        scale=alt.Scale(\n",
    "            domain=['Untrained', 'Trained'],\n",
    "            range=['red', 'green']\n",
    "        ),\n",
    "        title='Training Status'\n",
    "    ),\n",
    "    tooltip=[\n",
    "        alt.Tooltip('Department:N', title='Department'),\n",
    "        alt.Tooltip('Total:Q', title='Total People'),\n",
    "        alt.Tooltip('TrainingStatus:N', title='Status'),\n",
    "        alt.Tooltip('Count:Q', title='Count')\n",
    "    ]\n",
    ").properties(\n",
    "    title='Department-Level Summary: Training Progress',\n",
    "    width=600,\n",
    "    height=300\n",
    ")"
   ]
  },
  {
   "cell_type": "code",
   "execution_count": 9,
   "id": "18d4813a-b459-422e-8349-0e1348f1f1ef",
   "metadata": {},
   "outputs": [],
   "source": [
    "# Create individual charts for each region\n",
    "departments = stacked_data_group['Department'].unique()\n",
    "charts = [create_department_chart(department) for department in departments]"
   ]
  },
  {
   "cell_type": "code",
   "execution_count": 10,
   "id": "8db1bcac-14ea-484e-9c57-6baac23e159d",
   "metadata": {},
   "outputs": [],
   "source": [
    "# Combine the region-specific charts\n",
    "group_charts = alt.hconcat(*charts).properties(\n",
    "    title='Group-Level Detail: Training Progress by Department'\n",
    ")"
   ]
  },
  {
   "cell_type": "code",
   "execution_count": 11,
   "id": "44355907-709c-4da3-bbce-a543e70e71c6",
   "metadata": {},
   "outputs": [],
   "source": [
    "# Final Combined Chart\n",
    "final_chart = alt.vconcat(department_chart, group_charts).properties(\n",
    "    title='Training Progress Overview'\n",
    ")"
   ]
  },
  {
   "cell_type": "code",
   "execution_count": 12,
   "id": "e45a406c-1d5b-42dd-8240-3ce8b7950202",
   "metadata": {},
   "outputs": [
    {
     "data": {
      "text/html": [
       "\n",
       "<style>\n",
       "  #altair-viz-b676d233a81844a887104a0b35403a83.vega-embed {\n",
       "    width: 100%;\n",
       "    display: flex;\n",
       "  }\n",
       "\n",
       "  #altair-viz-b676d233a81844a887104a0b35403a83.vega-embed details,\n",
       "  #altair-viz-b676d233a81844a887104a0b35403a83.vega-embed details summary {\n",
       "    position: relative;\n",
       "  }\n",
       "</style>\n",
       "<div id=\"altair-viz-b676d233a81844a887104a0b35403a83\"></div>\n",
       "<script type=\"text/javascript\">\n",
       "  var VEGA_DEBUG = (typeof VEGA_DEBUG == \"undefined\") ? {} : VEGA_DEBUG;\n",
       "  (function(spec, embedOpt){\n",
       "    let outputDiv = document.currentScript.previousElementSibling;\n",
       "    if (outputDiv.id !== \"altair-viz-b676d233a81844a887104a0b35403a83\") {\n",
       "      outputDiv = document.getElementById(\"altair-viz-b676d233a81844a887104a0b35403a83\");\n",
       "    }\n",
       "\n",
       "    const paths = {\n",
       "      \"vega\": \"https://cdn.jsdelivr.net/npm/vega@5?noext\",\n",
       "      \"vega-lib\": \"https://cdn.jsdelivr.net/npm/vega-lib?noext\",\n",
       "      \"vega-lite\": \"https://cdn.jsdelivr.net/npm/vega-lite@5.20.1?noext\",\n",
       "      \"vega-embed\": \"https://cdn.jsdelivr.net/npm/vega-embed@6?noext\",\n",
       "    };\n",
       "\n",
       "    function maybeLoadScript(lib, version) {\n",
       "      var key = `${lib.replace(\"-\", \"\")}_version`;\n",
       "      return (VEGA_DEBUG[key] == version) ?\n",
       "        Promise.resolve(paths[lib]) :\n",
       "        new Promise(function(resolve, reject) {\n",
       "          var s = document.createElement('script');\n",
       "          document.getElementsByTagName(\"head\")[0].appendChild(s);\n",
       "          s.async = true;\n",
       "          s.onload = () => {\n",
       "            VEGA_DEBUG[key] = version;\n",
       "            return resolve(paths[lib]);\n",
       "          };\n",
       "          s.onerror = () => reject(`Error loading script: ${paths[lib]}`);\n",
       "          s.src = paths[lib];\n",
       "        });\n",
       "    }\n",
       "\n",
       "    function showError(err) {\n",
       "      outputDiv.innerHTML = `<div class=\"error\" style=\"color:red;\">${err}</div>`;\n",
       "      throw err;\n",
       "    }\n",
       "\n",
       "    function displayChart(vegaEmbed) {\n",
       "      vegaEmbed(outputDiv, spec, embedOpt)\n",
       "        .catch(err => showError(`Javascript Error: ${err.message}<br>This usually means there's a typo in your chart specification. See the javascript console for the full traceback.`));\n",
       "    }\n",
       "\n",
       "    if(typeof define === \"function\" && define.amd) {\n",
       "      requirejs.config({paths});\n",
       "      let deps = [\"vega-embed\"];\n",
       "      require(deps, displayChart, err => showError(`Error loading script: ${err.message}`));\n",
       "    } else {\n",
       "      maybeLoadScript(\"vega\", \"5\")\n",
       "        .then(() => maybeLoadScript(\"vega-lite\", \"5.20.1\"))\n",
       "        .then(() => maybeLoadScript(\"vega-embed\", \"6\"))\n",
       "        .catch(showError)\n",
       "        .then(() => displayChart(vegaEmbed));\n",
       "    }\n",
       "  })({\"config\": {\"view\": {\"continuousWidth\": 300, \"continuousHeight\": 300}}, \"vconcat\": [{\"data\": {\"name\": \"data-2b18f70decb6a6f12780c061c58c5e26\"}, \"mark\": {\"type\": \"bar\"}, \"encoding\": {\"color\": {\"field\": \"TrainingStatus\", \"scale\": {\"domain\": [\"Untrained\", \"Trained\"], \"range\": [\"red\", \"green\"]}, \"title\": \"Training Status\", \"type\": \"nominal\"}, \"tooltip\": [{\"field\": \"Department\", \"title\": \"Department\", \"type\": \"nominal\"}, {\"field\": \"Total\", \"title\": \"Total People\", \"type\": \"quantitative\"}, {\"field\": \"TrainingStatus\", \"title\": \"Status\", \"type\": \"nominal\"}, {\"field\": \"Count\", \"title\": \"Count\", \"type\": \"quantitative\"}], \"x\": {\"field\": \"Department\", \"title\": \"Department\", \"type\": \"nominal\"}, \"y\": {\"field\": \"Count\", \"scale\": {\"reverse\": false}, \"sort\": \"descending\", \"stack\": true, \"title\": \"Number of People\", \"type\": \"quantitative\"}}, \"height\": 300, \"title\": \"Department-Level Summary: Training Progress\", \"width\": 600}, {\"hconcat\": [{\"data\": {\"name\": \"data-5002ea1080d6630538193ecdf97696d2\"}, \"mark\": {\"type\": \"bar\"}, \"encoding\": {\"color\": {\"field\": \"TrainingStatus\", \"scale\": {\"domain\": [\"Untrained\", \"Trained\"], \"range\": [\"red\", \"green\"]}, \"title\": \"Training Status\", \"type\": \"nominal\"}, \"tooltip\": [{\"field\": \"Department\", \"title\": \"Department\", \"type\": \"nominal\"}, {\"field\": \"Group\", \"title\": \"Group\", \"type\": \"nominal\"}, {\"field\": \"Total\", \"title\": \"Total People\", \"type\": \"quantitative\"}, {\"field\": \"TrainingStatus\", \"title\": \"Status\", \"type\": \"nominal\"}, {\"field\": \"Count\", \"title\": \"Count\", \"type\": \"quantitative\"}], \"x\": {\"field\": \"Group\", \"title\": \"Group\", \"type\": \"nominal\"}, \"y\": {\"field\": \"Count\", \"scale\": {\"reverse\": false}, \"sort\": \"descending\", \"stack\": true, \"title\": \"Number of People\", \"type\": \"quantitative\"}}, \"height\": 200, \"title\": \"Business & Finance Department\", \"width\": 300}, {\"data\": {\"name\": \"data-ffca164b3188f4ad922e653c3a927c4e\"}, \"mark\": {\"type\": \"bar\"}, \"encoding\": {\"color\": {\"field\": \"TrainingStatus\", \"scale\": {\"domain\": [\"Untrained\", \"Trained\"], \"range\": [\"red\", \"green\"]}, \"title\": \"Training Status\", \"type\": \"nominal\"}, \"tooltip\": [{\"field\": \"Department\", \"title\": \"Department\", \"type\": \"nominal\"}, {\"field\": \"Group\", \"title\": \"Group\", \"type\": \"nominal\"}, {\"field\": \"Total\", \"title\": \"Total People\", \"type\": \"quantitative\"}, {\"field\": \"TrainingStatus\", \"title\": \"Status\", \"type\": \"nominal\"}, {\"field\": \"Count\", \"title\": \"Count\", \"type\": \"quantitative\"}], \"x\": {\"field\": \"Group\", \"title\": \"Group\", \"type\": \"nominal\"}, \"y\": {\"field\": \"Count\", \"scale\": {\"reverse\": false}, \"sort\": \"descending\", \"stack\": true, \"title\": \"Number of People\", \"type\": \"quantitative\"}}, \"height\": 200, \"title\": \"Litigation Department\", \"width\": 300}], \"title\": \"Group-Level Detail: Training Progress by Department\"}], \"title\": \"Training Progress Overview\", \"$schema\": \"https://vega.github.io/schema/vega-lite/v5.20.1.json\", \"datasets\": {\"data-2b18f70decb6a6f12780c061c58c5e26\": [{\"Department\": \"Business & Finance\", \"Total\": 219.0, \"TrainingStatus\": \"Trained\", \"Count\": 150.0}, {\"Department\": \"Litigation\", \"Total\": 216.0, \"TrainingStatus\": \"Trained\", \"Count\": 142.0}, {\"Department\": \"Business & Finance\", \"Total\": 219.0, \"TrainingStatus\": \"Untrained\", \"Count\": 69.0}, {\"Department\": \"Litigation\", \"Total\": 216.0, \"TrainingStatus\": \"Untrained\", \"Count\": 74.0}], \"data-5002ea1080d6630538193ecdf97696d2\": [{\"Department\": \"Business & Finance\", \"Group\": \"Energy & Natural Resources\", \"Total\": 16.0, \"TrainingStatus\": \"Trained\", \"Count\": 10.0}, {\"Department\": \"Business & Finance\", \"Group\": \"Entertainment & Media Industry Group\", \"Total\": 16.0, \"TrainingStatus\": \"Trained\", \"Count\": 7.0}, {\"Department\": \"Business & Finance\", \"Group\": \"Financial Industry Group\", \"Total\": 52.0, \"TrainingStatus\": \"Trained\", \"Count\": 33.0}, {\"Department\": \"Business & Finance\", \"Group\": \"Global Corporate Group\", \"Total\": 100.0, \"TrainingStatus\": \"Trained\", \"Count\": 70.0}, {\"Department\": \"Business & Finance\", \"Group\": \"Real Estate\", \"Total\": 22.0, \"TrainingStatus\": \"Trained\", \"Count\": 18.0}, {\"Department\": \"Business & Finance\", \"Group\": \"State Tax\", \"Total\": 13.0, \"TrainingStatus\": \"Trained\", \"Count\": 12.0}, {\"Department\": \"Business & Finance\", \"Group\": \"Energy & Natural Resources\", \"Total\": 16.0, \"TrainingStatus\": \"Untrained\", \"Count\": 6.0}, {\"Department\": \"Business & Finance\", \"Group\": \"Entertainment & Media Industry Group\", \"Total\": 16.0, \"TrainingStatus\": \"Untrained\", \"Count\": 9.0}, {\"Department\": \"Business & Finance\", \"Group\": \"Financial Industry Group\", \"Total\": 52.0, \"TrainingStatus\": \"Untrained\", \"Count\": 19.0}, {\"Department\": \"Business & Finance\", \"Group\": \"Global Corporate Group\", \"Total\": 100.0, \"TrainingStatus\": \"Untrained\", \"Count\": 30.0}, {\"Department\": \"Business & Finance\", \"Group\": \"Real Estate\", \"Total\": 22.0, \"TrainingStatus\": \"Untrained\", \"Count\": 4.0}, {\"Department\": \"Business & Finance\", \"Group\": \"State Tax\", \"Total\": 13.0, \"TrainingStatus\": \"Untrained\", \"Count\": 1.0}], \"data-ffca164b3188f4ad922e653c3a927c4e\": [{\"Department\": \"Litigation\", \"Group\": \"Global Commercial Disputes\", \"Total\": 88.0, \"TrainingStatus\": \"Trained\", \"Count\": 61.0}, {\"Department\": \"Litigation\", \"Group\": \"Global Regulatory Enforcement\", \"Total\": 15.0, \"TrainingStatus\": \"Trained\", \"Count\": 15.0}, {\"Department\": \"Litigation\", \"Group\": \"Insurance Recovery\", \"Total\": 29.0, \"TrainingStatus\": \"Trained\", \"Count\": 18.0}, {\"Department\": \"Litigation\", \"Group\": \"Intellectual Property\", \"Total\": 18.0, \"TrainingStatus\": \"Trained\", \"Count\": 6.0}, {\"Department\": \"Litigation\", \"Group\": \"Labor & Employment\", \"Total\": 22.0, \"TrainingStatus\": \"Trained\", \"Count\": 14.0}, {\"Department\": \"Litigation\", \"Group\": \"Life Sciences Health Industry Group\", \"Total\": 42.0, \"TrainingStatus\": \"Trained\", \"Count\": 26.0}, {\"Department\": \"Litigation\", \"Group\": \"Transportation Industry Group\", \"Total\": 2.0, \"TrainingStatus\": \"Trained\", \"Count\": 2.0}, {\"Department\": \"Litigation\", \"Group\": \"Global Commercial Disputes\", \"Total\": 88.0, \"TrainingStatus\": \"Untrained\", \"Count\": 27.0}, {\"Department\": \"Litigation\", \"Group\": \"Global Regulatory Enforcement\", \"Total\": 15.0, \"TrainingStatus\": \"Untrained\", \"Count\": 0.0}, {\"Department\": \"Litigation\", \"Group\": \"Insurance Recovery\", \"Total\": 29.0, \"TrainingStatus\": \"Untrained\", \"Count\": 11.0}, {\"Department\": \"Litigation\", \"Group\": \"Intellectual Property\", \"Total\": 18.0, \"TrainingStatus\": \"Untrained\", \"Count\": 12.0}, {\"Department\": \"Litigation\", \"Group\": \"Labor & Employment\", \"Total\": 22.0, \"TrainingStatus\": \"Untrained\", \"Count\": 8.0}, {\"Department\": \"Litigation\", \"Group\": \"Life Sciences Health Industry Group\", \"Total\": 42.0, \"TrainingStatus\": \"Untrained\", \"Count\": 16.0}, {\"Department\": \"Litigation\", \"Group\": \"Transportation Industry Group\", \"Total\": 2.0, \"TrainingStatus\": \"Untrained\", \"Count\": 0.0}]}}, {\"mode\": \"vega-lite\"});\n",
       "</script>"
      ],
      "text/plain": [
       "alt.VConcatChart(...)"
      ]
     },
     "execution_count": 12,
     "metadata": {},
     "output_type": "execute_result"
    }
   ],
   "source": [
    "final_chart"
   ]
  },
  {
   "cell_type": "code",
   "execution_count": 13,
   "id": "5de91f22-6c96-473e-ac2c-c4e3a4b30f56",
   "metadata": {},
   "outputs": [
    {
     "data": {
      "text/plain": [
       "Department\n",
       "Business & Finance    219\n",
       "Litigation            216\n",
       "Name: count, dtype: int64"
      ]
     },
     "execution_count": 13,
     "metadata": {},
     "output_type": "execute_result"
    }
   ],
   "source": [
    "df.Department.value_counts()"
   ]
  },
  {
   "cell_type": "code",
   "execution_count": 14,
   "id": "4e000188-90ac-4cf0-9a4f-bed5df9e4ecb",
   "metadata": {},
   "outputs": [],
   "source": [
    "final_chart.save(\"us.png\")"
   ]
  }
 ],
 "metadata": {
  "kernelspec": {
   "display_name": "Python 3 (ipykernel)",
   "language": "python",
   "name": "python3"
  },
  "language_info": {
   "codemirror_mode": {
    "name": "ipython",
    "version": 3
   },
   "file_extension": ".py",
   "mimetype": "text/x-python",
   "name": "python",
   "nbconvert_exporter": "python",
   "pygments_lexer": "ipython3",
   "version": "3.12.8"
  }
 },
 "nbformat": 4,
 "nbformat_minor": 5
}

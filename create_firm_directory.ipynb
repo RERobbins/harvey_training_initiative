{
 "cells": [
  {
   "cell_type": "code",
   "execution_count": null,
   "id": "b598cc62-78d1-479b-a240-e6c0ae5276f7",
   "metadata": {
    "executionInfo": {
     "elapsed": 844,
     "status": "ok",
     "timestamp": 1736011252078,
     "user": {
      "displayName": "Richard Robbins",
      "userId": "11322966614005346890"
     },
     "user_tz": 480
    },
    "id": "b598cc62-78d1-479b-a240-e6c0ae5276f7"
   },
   "outputs": [],
   "source": [
    "import os\n",
    "import pandas as pd"
   ]
  },
  {
   "cell_type": "code",
   "execution_count": null,
   "id": "rpn-c0IPckn6",
   "metadata": {
    "colab": {
     "base_uri": "https://localhost:8080/"
    },
    "executionInfo": {
     "elapsed": 21113,
     "status": "ok",
     "timestamp": 1736011273187,
     "user": {
      "displayName": "Richard Robbins",
      "userId": "11322966614005346890"
     },
     "user_tz": 480
    },
    "id": "rpn-c0IPckn6",
    "outputId": "492b3b5c-dcd7-49cf-cebd-ec964d232f0a"
   },
   "outputs": [],
   "source": [
    "#from google.colab import drive\n",
    "#drive.mount('/content/drive')"
   ]
  },
  {
   "cell_type": "code",
   "execution_count": null,
   "id": "5kt9omNO3ocv",
   "metadata": {
    "executionInfo": {
     "elapsed": 583,
     "status": "ok",
     "timestamp": 1736011275073,
     "user": {
      "displayName": "Richard Robbins",
      "userId": "11322966614005346890"
     },
     "user_tz": 480
    },
    "id": "5kt9omNO3ocv"
   },
   "outputs": [],
   "source": [
    "#os.chdir(\"/content/drive/MyDrive/Harvey Associate Initiative/\")\n",
    "os.chdir(\"/Users/rerobbins/projects/work/harvey_training_initiative\")"
   ]
  },
  {
   "cell_type": "code",
   "execution_count": null,
   "id": "C4LM2grTFZxA",
   "metadata": {
    "executionInfo": {
     "elapsed": 1368,
     "status": "ok",
     "timestamp": 1736011284336,
     "user": {
      "displayName": "Richard Robbins",
      "userId": "11322966614005346890"
     },
     "user_tz": 480
    },
    "id": "C4LM2grTFZxA"
   },
   "outputs": [],
   "source": [
    "offices = pd.read_excel(\"2024-12-28 -- Lookup Tables.xlsx\", sheet_name=\"Offices\")\n",
    "titles = pd.read_excel(\"2024-12-28 -- Lookup Tables.xlsx\", sheet_name=\"Titles\")"
   ]
  },
  {
   "cell_type": "code",
   "execution_count": null,
   "id": "QfexqNZUF4ag",
   "metadata": {
    "colab": {
     "base_uri": "https://localhost:8080/",
     "height": 1000
    },
    "executionInfo": {
     "elapsed": 259,
     "status": "ok",
     "timestamp": 1736011288839,
     "user": {
      "displayName": "Richard Robbins",
      "userId": "11322966614005346890"
     },
     "user_tz": 480
    },
    "id": "QfexqNZUF4ag",
    "outputId": "dbe00758-a0a1-4706-e4d1-d1fd8ac5c6fc"
   },
   "outputs": [],
   "source": [
    "offices"
   ]
  },
  {
   "cell_type": "code",
   "execution_count": null,
   "id": "id6uNO6bF8dX",
   "metadata": {
    "colab": {
     "base_uri": "https://localhost:8080/",
     "height": 1000
    },
    "executionInfo": {
     "elapsed": 260,
     "status": "ok",
     "timestamp": 1736011294860,
     "user": {
      "displayName": "Richard Robbins",
      "userId": "11322966614005346890"
     },
     "user_tz": 480
    },
    "id": "id6uNO6bF8dX",
    "outputId": "8294cdcf-dd3a-4213-f1cb-62d6aab2c885"
   },
   "outputs": [],
   "source": [
    "titles"
   ]
  },
  {
   "cell_type": "code",
   "execution_count": null,
   "id": "JOdvbXHVcliu",
   "metadata": {
    "colab": {
     "base_uri": "https://localhost:8080/",
     "height": 580
    },
    "executionInfo": {
     "elapsed": 1863,
     "status": "ok",
     "timestamp": 1736011310038,
     "user": {
      "displayName": "Richard Robbins",
      "userId": "11322966614005346890"
     },
     "user_tz": 480
    },
    "id": "JOdvbXHVcliu",
    "outputId": "fb4882d2-adc4-4421-ece3-a4652cc3c884"
   },
   "outputs": [],
   "source": [
    "# Load the data\n",
    "firm = pd.read_excel(\"2025-01-10 -- Firm Directory From People Finder.xlsx\")\n",
    "\n",
    "# Rename the first column to 'Email' and standardize its format\n",
    "firm = firm.rename(columns={firm.columns[0]: \"Email\"})\n",
    "firm[\"Email\"] = firm[\"Email\"].str.strip().str.lower()\n",
    "\n",
    "# Filter for primary office and drop rows with missing 'Email' or 'Department'\n",
    "firm = firm[firm['Office Type'] == \"Primary Office\"]\n",
    "firm = firm.dropna(subset=['Email', 'Department'])\n",
    "\n",
    "# Split 'Department' into 'Department' and 'Group', stripping whitespace\n",
    "firm[['Department', 'Group']] = firm['Department'].str.split(' - ', n=1, expand=True)\n",
    "firm['Department'] = firm['Department'].str.strip()\n",
    "firm['Group'] = firm['Group'].str.strip()\n",
    "\n",
    "# Extract the first part of 'Title' into 'Title Stem'\n",
    "firm['Title Stem'] = firm['Title'].str.split('<br/>').str[0].str.strip()\n",
    "\n",
    "firm = firm.merge(offices, on=\"Office\", how='left')\n",
    "firm = firm.merge(titles, on=\"Title Stem\", how='left')\n",
    "\n",
    "columns = ['Email', 'Name', 'Title', 'Title Stem', 'Title Group', 'Attorney',\n",
    "           'Department', 'Group', 'Office', 'Region']\n",
    "\n",
    "firm = firm[columns]\n",
    "\n",
    "# Display the cleaned DataFrame\n",
    "firm"
   ]
  },
  {
   "cell_type": "code",
   "execution_count": null,
   "id": "T1QBbDjNGuMJ",
   "metadata": {
    "executionInfo": {
     "elapsed": 584,
     "status": "ok",
     "timestamp": 1736011337830,
     "user": {
      "displayName": "Richard Robbins",
      "userId": "11322966614005346890"
     },
     "user_tz": 480
    },
    "id": "T1QBbDjNGuMJ"
   },
   "outputs": [],
   "source": [
    "# The firm data pulled from People Finder on Ourspace doesn't fully reflect\n",
    "# Group and Department assignments for U.S. New Associates until the start of\n",
    "# the calendar year following their start dates, so we patch this gap.\n",
    "\n",
    "#new_associates_mapping = pd.read_excel(\"2024-12-15 -- US New Associates.xlsx\")\n",
    "#new_associates_mapping"
   ]
  },
  {
   "cell_type": "code",
   "execution_count": null,
   "id": "n1jm9dmAq1Ue",
   "metadata": {
    "executionInfo": {
     "elapsed": 281,
     "status": "ok",
     "timestamp": 1736011348401,
     "user": {
      "displayName": "Richard Robbins",
      "userId": "11322966614005346890"
     },
     "user_tz": 480
    },
    "id": "n1jm9dmAq1Ue"
   },
   "outputs": [],
   "source": [
    "#firm = firm.merge(\n",
    "#    new_associates_mapping[['Email', 'Department', 'Group']],\n",
    "#    on='Email',\n",
    "#    how='left',\n",
    "#    suffixes=('', '_new')  # so we get Department_new, Group_new\n",
    "#)\n",
    "\n",
    "# Update department and group only where Title Stem == \"New Associate\"\n",
    "#mask = firm['Title Stem'] == 'New Associate'\n",
    "#firm.loc[mask, 'Department'] = firm.loc[mask, 'Department_new']\n",
    "#firm.loc[mask, 'Group']      = firm.loc[mask, 'Group_new']\n",
    "\n",
    "# Drop the extra columns\n",
    "#firm.drop(columns=['Department_new', 'Group_new'], inplace=True)\n"
   ]
  },
  {
   "cell_type": "code",
   "execution_count": null,
   "id": "Ie8mXutEro7V",
   "metadata": {
    "colab": {
     "base_uri": "https://localhost:8080/",
     "height": 554
    },
    "executionInfo": {
     "elapsed": 788,
     "status": "ok",
     "timestamp": 1736011356166,
     "user": {
      "displayName": "Richard Robbins",
      "userId": "11322966614005346890"
     },
     "user_tz": 480
    },
    "id": "Ie8mXutEro7V",
    "outputId": "e48a942a-03d2-4d4c-84ad-11bcb9a2d35e"
   },
   "outputs": [],
   "source": [
    "firm[(firm['Region'] == 'U.S.') & (firm['Title Stem'] == 'Associate')].Group.value_counts()"
   ]
  },
  {
   "cell_type": "code",
   "execution_count": null,
   "id": "PiZFeMXnHLMQ",
   "metadata": {
    "colab": {
     "base_uri": "https://localhost:8080/",
     "height": 178
    },
    "executionInfo": {
     "elapsed": 219,
     "status": "ok",
     "timestamp": 1736011386032,
     "user": {
      "displayName": "Richard Robbins",
      "userId": "11322966614005346890"
     },
     "user_tz": 480
    },
    "id": "PiZFeMXnHLMQ",
    "outputId": "a8141ace-c216-4085-af89-7c9c03ec1ad2"
   },
   "outputs": [],
   "source": [
    "firm[(firm['Region'] == 'U.S.') & (firm['Title Stem'] == 'Associate')].Department.value_counts()"
   ]
  },
  {
   "cell_type": "code",
   "execution_count": null,
   "id": "lt8i3RgRricc",
   "metadata": {
    "colab": {
     "base_uri": "https://localhost:8080/",
     "height": 210
    },
    "executionInfo": {
     "elapsed": 600,
     "status": "ok",
     "timestamp": 1736011404923,
     "user": {
      "displayName": "Richard Robbins",
      "userId": "11322966614005346890"
     },
     "user_tz": 480
    },
    "id": "lt8i3RgRricc",
    "outputId": "c15a2da1-355f-45ac-a0d0-8071fd9bb98b"
   },
   "outputs": [],
   "source": [
    "firm.Region.value_counts()"
   ]
  },
  {
   "cell_type": "code",
   "execution_count": null,
   "id": "Bd2Bv1SOaEYG",
   "metadata": {
    "executionInfo": {
     "elapsed": 1590,
     "status": "ok",
     "timestamp": 1736011416552,
     "user": {
      "displayName": "Richard Robbins",
      "userId": "11322966614005346890"
     },
     "user_tz": 480
    },
    "id": "Bd2Bv1SOaEYG"
   },
   "outputs": [],
   "source": [
    "firm.to_excel(\"firm_directory.xlsx\", index=False)"
   ]
  }
 ],
 "metadata": {
  "colab": {
   "provenance": []
  },
  "kernelspec": {
   "display_name": "Python [conda env:base] *",
   "language": "python",
   "name": "conda-base-py"
  },
  "language_info": {
   "codemirror_mode": {
    "name": "ipython",
    "version": 3
   },
   "file_extension": ".py",
   "mimetype": "text/x-python",
   "name": "python",
   "nbconvert_exporter": "python",
   "pygments_lexer": "ipython3",
   "version": "3.12.2"
  }
 },
 "nbformat": 4,
 "nbformat_minor": 5
}
